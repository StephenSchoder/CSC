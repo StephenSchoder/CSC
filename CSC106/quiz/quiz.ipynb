{
 "cells": [
  {
   "cell_type": "code",
   "execution_count": null,
   "metadata": {},
   "outputs": [],
   "source": [
    "# Stephen Schoder\n",
    "#CSC106\n",
    "#quiz\n",
    "\n",
    "\n",
    "#define and declare Q1\n",
    "\n",
    "first_name='Stevie' #str"
   ]
  },
  {
   "cell_type": "code",
   "execution_count": null,
   "metadata": {},
   "outputs": [],
   "source": [
    "Id=123              #int"
   ]
  },
  {
   "cell_type": "code",
   "execution_count": null,
   "metadata": {},
   "outputs": [],
   "source": [
    "graduated=True      #bool"
   ]
  },
  {
   "cell_type": "code",
   "execution_count": null,
   "metadata": {},
   "outputs": [],
   "source": [
    "#put into containers Q2\n",
    "\n",
    "infotuple=(first_name,Id,graduated)"
   ]
  },
  {
   "cell_type": "code",
   "execution_count": null,
   "metadata": {},
   "outputs": [],
   "source": [
    "infolist=[first_name,Id,graduated]"
   ]
  },
  {
   "cell_type": "code",
   "execution_count": null,
   "metadata": {},
   "outputs": [],
   "source": [
    "infoset={first_name,Id,graduated}"
   ]
  },
  {
   "cell_type": "code",
   "execution_count": null,
   "metadata": {},
   "outputs": [],
   "source": [
    "infodict={\n",
    "    first_name:'Stevie',\n",
    "    Id:123,\n",
    "    graduated:True\n",
    "}"
   ]
  },
  {
   "cell_type": "code",
   "execution_count": null,
   "metadata": {},
   "outputs": [],
   "source": [
    "#analysis Q3a\n",
    "\n",
    "if (infolist[0]==first_name):\n",
    "    print('correct')"
   ]
  },
  {
   "cell_type": "code",
   "execution_count": null,
   "metadata": {},
   "outputs": [],
   "source": [
    "#Q3b\n",
    "\n",
    "if (infolist[1]==Id):\n",
    "    print('correct')"
   ]
  },
  {
   "cell_type": "code",
   "execution_count": null,
   "metadata": {},
   "outputs": [],
   "source": [
    "#Q3c\n",
    "\n",
    "if (infolist[2]==graduated):\n",
    "    print('correct')"
   ]
  },
  {
   "cell_type": "code",
   "execution_count": null,
   "metadata": {},
   "outputs": [],
   "source": [
    "#Q3d\n",
    "\n",
    "if (infolist[0]==first_name):\n",
    "    print('correct')\n",
    "else: print('incorrect!')"
   ]
  },
  {
   "cell_type": "code",
   "execution_count": null,
   "metadata": {},
   "outputs": [],
   "source": [
    "#Q3e\n",
    "\n",
    "if (infolist[1]==Id):\n",
    "    print('correct')\n",
    "else: print('incorrect!')"
   ]
  },
  {
   "cell_type": "code",
   "execution_count": null,
   "metadata": {},
   "outputs": [],
   "source": [
    "#Q3f\n",
    "\n",
    "if (infolist[2]==graduated):\n",
    "    print('correct')\n",
    "else: print('incorrect!')"
   ]
  },
  {
   "cell_type": "code",
   "execution_count": null,
   "metadata": {},
   "outputs": [],
   "source": [
    "#Q3g\n",
    "\n",
    "i=0\n",
    "while i<3:\n",
    "    if (infolist[i]==first_name):\n",
    "        print('correct')\n",
    "    i+=1"
   ]
  },
  {
   "cell_type": "code",
   "execution_count": null,
   "metadata": {},
   "outputs": [],
   "source": [
    "#Q3h\n",
    "\n",
    "i=0\n",
    "while i<3:\n",
    "    if (infolist[i]==Id):\n",
    "        print('correct')\n",
    "    i+=1"
   ]
  },
  {
   "cell_type": "code",
   "execution_count": null,
   "metadata": {},
   "outputs": [],
   "source": [
    "#Q3i\n",
    "\n",
    "i=0\n",
    "while i<3:\n",
    "    if (infolist[i]==graduated):\n",
    "        print('correct')\n",
    "    i+=1"
   ]
  },
  {
   "cell_type": "code",
   "execution_count": null,
   "metadata": {},
   "outputs": [],
   "source": [
    "#Q3j\n",
    "\n",
    "for i in infolist:  #can also use -- for i in range(2): to make it identical in function to the while loops\n",
    "    if (i==first_name):\n",
    "        print('correct')"
   ]
  },
  {
   "cell_type": "code",
   "execution_count": null,
   "metadata": {},
   "outputs": [],
   "source": [
    "#Q3k\n",
    "\n",
    "for i in infolist:\n",
    "    if (i==Id):\n",
    "        print('correct')"
   ]
  },
  {
   "cell_type": "code",
   "execution_count": null,
   "metadata": {},
   "outputs": [],
   "source": [
    "#Q3l\n",
    "\n",
    "for i in infolist:\n",
    "    if (i==graduated):\n",
    "        print('correct')"
   ]
  },
  {
   "cell_type": "code",
   "execution_count": null,
   "metadata": {},
   "outputs": [],
   "source": [
    "def sqLDiff(l1,l2):\n",
    "    return abs(l1-l2)\n",
    "\n",
    "print(sqLDiff(4,8))"
   ]
  },
  {
   "cell_type": "code",
   "execution_count": null,
   "metadata": {},
   "outputs": [],
   "source": [
    "def sqPDif(l1,l2):\n",
    "    return abs(l1*4-l2*4)\n",
    "\n",
    "print(sqPDif(4,8))"
   ]
  },
  {
   "cell_type": "code",
   "execution_count": null,
   "metadata": {},
   "outputs": [],
   "source": [
    "def sqADif(l1,l2):\n",
    "    return abs(l1*l1-l2*l2) #to make it positive\n",
    "\n",
    "print(sqDif(4,8))"
   ]
  },
  {
   "cell_type": "code",
   "execution_count": null,
   "metadata": {},
   "outputs": [],
   "source": []
  }
 ],
 "metadata": {
  "kernelspec": {
   "display_name": "Python 3",
   "language": "python",
   "name": "python3"
  },
  "language_info": {
   "codemirror_mode": {
    "name": "ipython",
    "version": 3
   },
   "file_extension": ".py",
   "mimetype": "text/x-python",
   "name": "python",
   "nbconvert_exporter": "python",
   "pygments_lexer": "ipython3",
   "version": "3.10.12"
  }
 },
 "nbformat": 4,
 "nbformat_minor": 2
}
