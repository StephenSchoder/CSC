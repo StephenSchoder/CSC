{
 "cells": [
  {
   "cell_type": "markdown",
   "metadata": {},
   "source": [
    "Cyber Security"
   ]
  },
  {
   "cell_type": "markdown",
   "metadata": {},
   "source": [
    "What is RSA? (Ron Rivest, Adi Shamir, and some guy last name A)"
   ]
  },
  {
   "cell_type": "markdown",
   "metadata": {},
   "source": [
    "Algrithm:\n",
    "\n",
    "phi(n)=(p-1)*(q-1)"
   ]
  },
  {
   "cell_type": "code",
   "execution_count": 23,
   "metadata": {},
   "outputs": [
    {
     "ename": "SyntaxError",
     "evalue": "invalid syntax (2597423734.py, line 9)",
     "output_type": "error",
     "traceback": [
      "\u001b[0;36m  Cell \u001b[0;32mIn[23], line 9\u001b[0;36m\u001b[0m\n\u001b[0;31m    d=\u001b[0m\n\u001b[0m      ^\u001b[0m\n\u001b[0;31mSyntaxError\u001b[0m\u001b[0;31m:\u001b[0m invalid syntax\n"
     ]
    }
   ],
   "source": [
    "#prime numbers for p and q, where n is the product\n",
    "import math\n",
    "p=5\n",
    "q=13\n",
    "n=p*q   #65\n",
    "x=(p-1)*(q-1)   #,    1<prime<48\n",
    "#1=(p**e)%x    \n",
    "e=12341234123412341234\n",
    "\n",
    "\n",
    "message=0\n",
    "C=(message^e)%n\n",
    "M=(C^d)%n\n",
    "M\n"
   ]
  },
  {
   "cell_type": "code",
   "execution_count": 17,
   "metadata": {},
   "outputs": [],
   "source": [
    "#semi-prime number: Numbers whos factors are prime numbers\n"
   ]
  },
  {
   "cell_type": "code",
   "execution_count": 22,
   "metadata": {},
   "outputs": [
    {
     "data": {
      "text/plain": [
       "45"
      ]
     },
     "execution_count": 22,
     "metadata": {},
     "output_type": "execute_result"
    }
   ],
   "source": [
    "import math as m\n",
    "\n",
    "p=61\n",
    "q=53\n",
    "n=p*q\n",
    "x=m.lcm(60,52)\n",
    "e=17\n",
    "d=413   #1=(17*n)%780 what is n? n=413, d=n\n",
    "mes=45\n",
    "c=(mes**e)%n\n",
    "M=(c**d)%n\n",
    "M"
   ]
  },
  {
   "cell_type": "code",
   "execution_count": null,
   "metadata": {},
   "outputs": [],
   "source": []
  }
 ],
 "metadata": {
  "kernelspec": {
   "display_name": "Python 3",
   "language": "python",
   "name": "python3"
  },
  "language_info": {
   "codemirror_mode": {
    "name": "ipython",
    "version": 3
   },
   "file_extension": ".py",
   "mimetype": "text/x-python",
   "name": "python",
   "nbconvert_exporter": "python",
   "pygments_lexer": "ipython3",
   "version": "3.10.12"
  }
 },
 "nbformat": 4,
 "nbformat_minor": 2
}
