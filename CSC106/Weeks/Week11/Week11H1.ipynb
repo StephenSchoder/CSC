{
 "cells": [
  {
   "cell_type": "code",
   "execution_count": 2,
   "metadata": {},
   "outputs": [
    {
     "name": "stdout",
     "output_type": "stream",
     "text": [
      "Your change is:  $ 7.57\n"
     ]
    }
   ],
   "source": [
    "def countChange(halfd,quarter,dime,nickel,penny):\n",
    "    return (halfd*50+quarter*25+dime*10+nickel*5+penny)/100    \n",
    "\n",
    "print('Your change is:  $',countChange(0,17,24,16,12))"
   ]
  },
  {
   "cell_type": "code",
   "execution_count": 2,
   "metadata": {},
   "outputs": [
    {
     "name": "stdout",
     "output_type": "stream",
     "text": [
      "Your change is:  $ 7.57\n"
     ]
    }
   ],
   "source": [
    "x=lambda hd, q, d, n, p: hd*.5+q*.25+d*.1+n*.05+p*.01\n",
    "print(\"Your change is:  $\",x(0,17,24,16,12))"
   ]
  },
  {
   "cell_type": "code",
   "execution_count": null,
   "metadata": {},
   "outputs": [],
   "source": []
  }
 ],
 "metadata": {
  "kernelspec": {
   "display_name": "Python 3",
   "language": "python",
   "name": "python3"
  },
  "language_info": {
   "codemirror_mode": {
    "name": "ipython",
    "version": 3
   },
   "file_extension": ".py",
   "mimetype": "text/x-python",
   "name": "python",
   "nbconvert_exporter": "python",
   "pygments_lexer": "ipython3",
   "version": "3.10.12"
  }
 },
 "nbformat": 4,
 "nbformat_minor": 2
}
