{
 "cells": [
  {
   "cell_type": "markdown",
   "id": "47245b0b",
   "metadata": {},
   "source": [
    "# 3. Set"
   ]
  },
  {
   "cell_type": "markdown",
   "id": "292648d6",
   "metadata": {},
   "source": [
    "We create sets by placing all the elements inside curly braces {}, separated by comma. A set can have any number of items and they may be of different types (integer, float, tuple, string etc.). But a set cannot have mutable elements like lists, sets or dictionaries as its elements."
   ]
  },
  {
   "cell_type": "markdown",
   "id": "2c6ae5c7",
   "metadata": {},
   "source": [
    "# Create a set"
   ]
  },
  {
   "cell_type": "code",
   "execution_count": 10,
   "id": "13062e4f",
   "metadata": {},
   "outputs": [
    {
     "name": "stdout",
     "output_type": "stream",
     "text": [
      "Student ID: {1, 2, 3, 4, 5}\n"
     ]
    }
   ],
   "source": [
    "# create a set of integer type\n",
    "student_id = {1, 2, 3, 4, 5}\n",
    "print('Student ID:', student_id)\n"
   ]
  },
  {
   "cell_type": "raw",
   "id": "39d76f2b",
   "metadata": {},
   "source": [
    "Question : Create a set using numbers say some fake SSN. "
   ]
  },
  {
   "cell_type": "code",
   "execution_count": 13,
   "id": "35b16890",
   "metadata": {},
   "outputs": [
    {
     "name": "stdout",
     "output_type": "stream",
     "text": [
      "Language : {'h', 'P', 'o', 'y', 'n', 't'}\n"
     ]
    }
   ],
   "source": [
    "# create a set of string type\n",
    "Language = {'P', 'y', 't', 'h', 'o', 'n'}\n",
    "print('Language :', Language)\n",
    "\n",
    "#Explanation  : https://en.wikipedia.org/wiki/Set_(mathematics)"
   ]
  },
  {
   "cell_type": "raw",
   "id": "d196f0a8",
   "metadata": {},
   "source": [
    "Question : Create a set using this sequence : \"abc\" and \"cba\"   "
   ]
  },
  {
   "cell_type": "code",
   "execution_count": 14,
   "id": "648c7e73",
   "metadata": {},
   "outputs": [
    {
     "name": "stdout",
     "output_type": "stream",
     "text": [
      "Set of mixed data types: {'A', 106, 'Hello', 1.23}\n"
     ]
    }
   ],
   "source": [
    "# create a set of mixed data types\n",
    "mixed_set = {'Hello', 106, 'A', 1.23}\n",
    "print('Set of mixed data types:', mixed_set)  "
   ]
  },
  {
   "cell_type": "raw",
   "id": "bf6ca851",
   "metadata": {},
   "source": [
    "Question : How do I get the word 'Hello'."
   ]
  },
  {
   "cell_type": "code",
   "execution_count": 15,
   "id": "a8987f74",
   "metadata": {},
   "outputs": [
    {
     "data": {
      "text/plain": [
       "'A'"
      ]
     },
     "execution_count": 15,
     "metadata": {},
     "output_type": "execute_result"
    }
   ],
   "source": [
    "# mixed_set{[0]} : Error!!\n",
    "#Which data container allows for change?\n",
    "\n",
    "list(mixed_set)[0]\n"
   ]
  },
  {
   "cell_type": "raw",
   "id": "59905ec6",
   "metadata": {},
   "source": [
    "Question : Create a set for this information and assign to a variable called \"Student_ID\". \n",
    "           \n",
    "           Name : \n",
    "           Class : \n",
    "           Homework :\n",
    "           Question : \n",
    "           Grade : \n",
    "           Date :   \n",
    "           "
   ]
  },
  {
   "cell_type": "raw",
   "id": "5f417c27",
   "metadata": {},
   "source": [
    "Question  : Create a set that contains the following data types of items. Please comment.\n",
    "            integer, float, tuple, string\n",
    "            "
   ]
  },
  {
   "cell_type": "raw",
   "id": "560d77df",
   "metadata": {},
   "source": [
    "Question  : Create a set that contains the following data types of items. Please comment. \n",
    "            integer, float, list, string\n",
    "            "
   ]
  },
  {
   "cell_type": "raw",
   "id": "4a8c3815",
   "metadata": {},
   "source": [
    "Question  : Create a set that contains the following data types of items. Please comment.\n",
    "            integer, float, set, string\n",
    "            "
   ]
  },
  {
   "cell_type": "code",
   "execution_count": 16,
   "id": "84e00411",
   "metadata": {},
   "outputs": [
    {
     "data": {
      "text/plain": [
       "{2, 4, 6, 8}"
      ]
     },
     "execution_count": 16,
     "metadata": {},
     "output_type": "execute_result"
    }
   ],
   "source": [
    "#Question : #print numbers and share the your findings?\n",
    "\n",
    "numbers = {2, 4, 6, 6, 2, 8}\n",
    "numbers"
   ]
  },
  {
   "cell_type": "code",
   "execution_count": 17,
   "id": "9b4b547f",
   "metadata": {},
   "outputs": [
    {
     "data": {
      "text/plain": [
       "set()"
      ]
     },
     "execution_count": 17,
     "metadata": {},
     "output_type": "execute_result"
    }
   ],
   "source": [
    "# create an empty set\n",
    "empty_set = set()\n",
    "empty_set"
   ]
  },
  {
   "cell_type": "markdown",
   "id": "9e831cd2",
   "metadata": {},
   "source": [
    "# Modify Set"
   ]
  },
  {
   "cell_type": "raw",
   "id": "c729ad5a",
   "metadata": {},
   "source": [
    "#Add any number to the set using\n",
    "numbers.add(1)\n",
    "\n",
    "Question : What is the output. "
   ]
  },
  {
   "cell_type": "raw",
   "id": "b23bd558",
   "metadata": {},
   "source": [
    "classes={'Math','Physics','Chemistry','Biology'}\n",
    "new_class=['English']\n",
    "\n",
    "syntax : \n",
    "#OLD.update(NEW)\n",
    "\n",
    "#Question : What is the output.\n"
   ]
  },
  {
   "cell_type": "raw",
   "id": "a1d88302",
   "metadata": {},
   "source": [
    "Question : Create a set of all the classes that you are taking this semester.\n",
    "           Add the classes you plan to take next semester in the original set. \n",
    "           \n",
    "syntax : OLD.update(NEW)"
   ]
  },
  {
   "cell_type": "raw",
   "id": "ebe408be",
   "metadata": {},
   "source": [
    "Question : Oops ... Remove any one of the classes from next semester using ...\n",
    "    \n",
    "_____________.discard('__________')\n",
    "\n"
   ]
  },
  {
   "cell_type": "raw",
   "id": "259f40e8",
   "metadata": {},
   "source": [
    "Challenge : \n",
    "\n",
    "1. Create a tuple : First_name, Middle_name, Last_name \n",
    "2. Create a list : CSC106, 90, A\n",
    "3. Create a set : 7500, University Driver, Bismarck, ND, 58504\n",
    "\n",
    "Question : Combine all the above item to form a set. \n",
    "           Solve any error. \n",
    "    "
   ]
  },
  {
   "cell_type": "code",
   "execution_count": null,
   "id": "8d57e37f-6d3c-4e70-80ef-35623d15b693",
   "metadata": {},
   "outputs": [],
   "source": []
  }
 ],
 "metadata": {
  "kernelspec": {
   "display_name": "Python 3 (ipykernel)",
   "language": "python",
   "name": "python3"
  },
  "language_info": {
   "codemirror_mode": {
    "name": "ipython",
    "version": 3
   },
   "file_extension": ".py",
   "mimetype": "text/x-python",
   "name": "python",
   "nbconvert_exporter": "python",
   "pygments_lexer": "ipython3",
   "version": "3.10.12"
  }
 },
 "nbformat": 4,
 "nbformat_minor": 5
}
