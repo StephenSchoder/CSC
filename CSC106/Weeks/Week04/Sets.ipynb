{
 "cells": [
  {
   "cell_type": "code",
   "execution_count": 36,
   "id": "6408afab-fcca-4ab3-8037-3b3b36655733",
   "metadata": {},
   "outputs": [
    {
     "name": "stdout",
     "output_type": "stream",
     "text": [
      "{123, 45, 6789}\n"
     ]
    }
   ],
   "source": [
    "#set stuff\n",
    "#ints\n",
    "ssn={123,45,6789}\n",
    "print(ssn)"
   ]
  },
  {
   "cell_type": "code",
   "execution_count": 6,
   "id": "e27cc052-e498-4504-b43b-06392923fc3c",
   "metadata": {},
   "outputs": [
    {
     "name": "stdout",
     "output_type": "stream",
     "text": [
      "{'n', 'h', 't', 'y', 'o', 'P'}\n"
     ]
    }
   ],
   "source": [
    "#String sets\n",
    "word={'P','y','t','h','o','n'}\n",
    "print(word)"
   ]
  },
  {
   "cell_type": "code",
   "execution_count": 21,
   "id": "abc1e3d3-2249-4191-a019-494b20f2d48e",
   "metadata": {},
   "outputs": [
    {
     "name": "stdout",
     "output_type": "stream",
     "text": [
      "{104, 2.4, 'P', 'Howdy'}\n"
     ]
    },
    {
     "data": {
      "text/plain": [
       "{104, 2.4, 'Howdy', 'P'}"
      ]
     },
     "execution_count": 21,
     "metadata": {},
     "output_type": "execute_result"
    }
   ],
   "source": [
    "#mixed set\n",
    "mixed={'Howdy',104,'P', 2.4}\n",
    "print(mixed)\n",
    "mixed\n",
    "#its different???"
   ]
  },
  {
   "cell_type": "code",
   "execution_count": 10,
   "id": "5253a1a0-4c31-472e-af3e-ab0887d36a59",
   "metadata": {},
   "outputs": [
    {
     "name": "stdout",
     "output_type": "stream",
     "text": [
      "{'cba', 'a', 'abc', 'c', 'b'}\n"
     ]
    }
   ],
   "source": [
    "thing={'abc','cba','a','b','c',\"c\",\"b\",\"a\"}\n",
    "print(thing)\n",
    "#odd. It only allows one of each specific vairable. if I have more than one 'a', it only shows 1 a"
   ]
  },
  {
   "cell_type": "code",
   "execution_count": 13,
   "id": "ccf2660c-d2b5-4f36-8c9d-4a35eacb941a",
   "metadata": {},
   "outputs": [
    {
     "name": "stdout",
     "output_type": "stream",
     "text": [
      "{'9/27/23', 4, 'Joe', 'CSC 106', 'W4D2'}\n"
     ]
    }
   ],
   "source": [
    "#id thing again\n",
    "Student_ID={'Joe','CSC 106','W4D2',4,4.0,'9/27/23'}\n",
    "print(Student_ID)"
   ]
  },
  {
   "cell_type": "code",
   "execution_count": 28,
   "id": "675e706a-2748-4d7b-8eed-1584272aa5c8",
   "metadata": {},
   "outputs": [
    {
     "name": "stdout",
     "output_type": "stream",
     "text": [
      "{1, 2.3, 'A', '789a', '789c', '789A', '789b', (4, 5, 6)}\n"
     ]
    }
   ],
   "source": [
    "types={1,2.3,(4,5,6),'789c','A','789b','789a','789A'}\n",
    "print(types)"
   ]
  },
  {
   "cell_type": "code",
   "execution_count": 29,
   "id": "e72ca1e6-ace2-4f29-8a43-693a37c86acd",
   "metadata": {},
   "outputs": [
    {
     "ename": "TypeError",
     "evalue": "unhashable type: 'list'",
     "output_type": "error",
     "traceback": [
      "\u001b[0;31m---------------------------------------------------------------------------\u001b[0m",
      "\u001b[0;31mTypeError\u001b[0m                                 Traceback (most recent call last)",
      "Cell \u001b[0;32mIn[29], line 1\u001b[0m\n\u001b[0;32m----> 1\u001b[0m types2\u001b[38;5;241m=\u001b[39m{\u001b[38;5;241m1\u001b[39m,\u001b[38;5;241m2.3\u001b[39m,[\u001b[38;5;241m4\u001b[39m,\u001b[38;5;241m5\u001b[39m,\u001b[38;5;241m6\u001b[39m],\u001b[38;5;124m'\u001b[39m\u001b[38;5;124m789c\u001b[39m\u001b[38;5;124m'\u001b[39m,\u001b[38;5;124m'\u001b[39m\u001b[38;5;124mA\u001b[39m\u001b[38;5;124m'\u001b[39m,\u001b[38;5;124m'\u001b[39m\u001b[38;5;124m789b\u001b[39m\u001b[38;5;124m'\u001b[39m,\u001b[38;5;124m'\u001b[39m\u001b[38;5;124m789a\u001b[39m\u001b[38;5;124m'\u001b[39m,\u001b[38;5;124m'\u001b[39m\u001b[38;5;124m789A\u001b[39m\u001b[38;5;124m'\u001b[39m}\n\u001b[1;32m      2\u001b[0m \u001b[38;5;28mprint\u001b[39m(types2)\n",
      "\u001b[0;31mTypeError\u001b[0m: unhashable type: 'list'"
     ]
    }
   ],
   "source": [
    "types2={1,2.3,[4,5,6],'789c','A','789b','789a','789A'}\n",
    "print(types2)"
   ]
  },
  {
   "cell_type": "code",
   "execution_count": 30,
   "id": "1f278291-094f-4777-bc05-b0d0d5e3c6f7",
   "metadata": {},
   "outputs": [
    {
     "ename": "TypeError",
     "evalue": "unhashable type: 'set'",
     "output_type": "error",
     "traceback": [
      "\u001b[0;31m---------------------------------------------------------------------------\u001b[0m",
      "\u001b[0;31mTypeError\u001b[0m                                 Traceback (most recent call last)",
      "Cell \u001b[0;32mIn[30], line 1\u001b[0m\n\u001b[0;32m----> 1\u001b[0m types2\u001b[38;5;241m=\u001b[39m{\u001b[38;5;241m1\u001b[39m,\u001b[38;5;241m2.3\u001b[39m,{\u001b[38;5;241m4\u001b[39m,\u001b[38;5;241m5\u001b[39m,\u001b[38;5;241m6\u001b[39m},\u001b[38;5;124m'\u001b[39m\u001b[38;5;124m789c\u001b[39m\u001b[38;5;124m'\u001b[39m,\u001b[38;5;124m'\u001b[39m\u001b[38;5;124mA\u001b[39m\u001b[38;5;124m'\u001b[39m,\u001b[38;5;124m'\u001b[39m\u001b[38;5;124m789b\u001b[39m\u001b[38;5;124m'\u001b[39m,\u001b[38;5;124m'\u001b[39m\u001b[38;5;124m789a\u001b[39m\u001b[38;5;124m'\u001b[39m,\u001b[38;5;124m'\u001b[39m\u001b[38;5;124m789A\u001b[39m\u001b[38;5;124m'\u001b[39m}\n\u001b[1;32m      2\u001b[0m \u001b[38;5;28mprint\u001b[39m(types2)\n",
      "\u001b[0;31mTypeError\u001b[0m: unhashable type: 'set'"
     ]
    }
   ],
   "source": [
    "types2={1,2.3,{4,5,6},'789c','A','789b','789a','789A'}\n",
    "print(types2)"
   ]
  },
  {
   "cell_type": "code",
   "execution_count": 35,
   "id": "c61984c6-0deb-446b-a708-9efbb6c3dcf4",
   "metadata": {},
   "outputs": [
    {
     "data": {
      "text/plain": [
       "{2, 4, 6, 8}"
      ]
     },
     "execution_count": 35,
     "metadata": {},
     "output_type": "execute_result"
    }
   ],
   "source": [
    "#sets ignore duplicates      ########\n",
    "nums={2,4,6,6,2,8}\n",
    "nums"
   ]
  },
  {
   "cell_type": "code",
   "execution_count": 34,
   "id": "ef6ccba0-8045-4fc3-90c5-1f0d119f6df3",
   "metadata": {},
   "outputs": [
    {
     "data": {
      "text/plain": [
       "set()"
      ]
     },
     "execution_count": 34,
     "metadata": {},
     "output_type": "execute_result"
    }
   ],
   "source": [
    "empty_set=set()\n",
    "empty_set"
   ]
  },
  {
   "cell_type": "code",
   "execution_count": 38,
   "id": "7a0853f2-4a73-4178-8bce-0ce44ed0dde9",
   "metadata": {},
   "outputs": [
    {
     "name": "stdout",
     "output_type": "stream",
     "text": [
      "{1, 2, 3}\n",
      "{1, 2, 3, 4}\n"
     ]
    }
   ],
   "source": [
    "#MODIFYING\n",
    "#Add stuff using .add()\n",
    "test={1,2,3}\n",
    "print(test)\n",
    "test.add(4)\n",
    "print(test)"
   ]
  },
  {
   "cell_type": "code",
   "execution_count": 40,
   "id": "d63f403b-ff39-499f-863d-46f14d7e6bcc",
   "metadata": {},
   "outputs": [
    {
     "data": {
      "text/plain": [
       "{'Biology', 'Chemistry', 'English', 'Math', 'Physics'}"
      ]
     },
     "execution_count": 40,
     "metadata": {},
     "output_type": "execute_result"
    }
   ],
   "source": [
    "classes={'Math','English','Physics','Chemistry'}\n",
    "new_class=['Biology']\n",
    "\n",
    "#syntax\n",
    "#OLD.update(NEW)\n",
    "classes.update(new_class)\n",
    "classes"
   ]
  },
  {
   "cell_type": "code",
   "execution_count": 6,
   "id": "a257ca4a-8eb2-4d82-8e07-c89d98ae0ed0",
   "metadata": {},
   "outputs": [
    {
     "data": {
      "text/plain": [
       "{58504,\n",
       " 7500,\n",
       " 90,\n",
       " 'A',\n",
       " 'Bismarck',\n",
       " 'CSC106',\n",
       " 'ND',\n",
       " 'Patrick',\n",
       " 'Schoder',\n",
       " 'Stephen',\n",
       " 'University Driver'}"
      ]
     },
     "execution_count": 6,
     "metadata": {},
     "output_type": "execute_result"
    }
   ],
   "source": [
    "fullName=('Stephen','Patrick','Schoder')\n",
    "classInfo=['CSC106',90,'A']\n",
    "location={7500,'University Driver','Bismarck','ND',58504}\n",
    "\n",
    "testset=set()\n",
    "testset.update(fullName)\n",
    "testset.update(classInfo)\n",
    "testset.update(location)\n",
    "testset"
   ]
  },
  {
   "cell_type": "code",
   "execution_count": null,
   "id": "0595db9f-f1d0-4c10-b0a6-7f16de1a5bc0",
   "metadata": {},
   "outputs": [],
   "source": []
  }
 ],
 "metadata": {
  "kernelspec": {
   "display_name": "Python 3 (ipykernel)",
   "language": "python",
   "name": "python3"
  },
  "language_info": {
   "codemirror_mode": {
    "name": "ipython",
    "version": 3
   },
   "file_extension": ".py",
   "mimetype": "text/x-python",
   "name": "python",
   "nbconvert_exporter": "python",
   "pygments_lexer": "ipython3",
   "version": "3.10.12"
  }
 },
 "nbformat": 4,
 "nbformat_minor": 5
}
