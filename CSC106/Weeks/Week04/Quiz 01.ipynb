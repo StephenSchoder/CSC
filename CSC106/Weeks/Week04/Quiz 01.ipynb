{
 "cells": [
  {
   "cell_type": "markdown",
   "id": "f1c0b3bf",
   "metadata": {},
   "source": [
    "# Question 1"
   ]
  },
  {
   "cell_type": "raw",
   "id": "87b36eb2",
   "metadata": {},
   "source": [
    "A Python program is required to calculate the amount, in dollars, contained in a piggybank. The bank contains half dollars, quarters, dimes, nickels, and pennies."
   ]
  },
  {
   "cell_type": "raw",
   "id": "4471312e",
   "metadata": {},
   "source": [
    "a. For this programming problem, how many inputs and outputs are required?"
   ]
  },
  {
   "cell_type": "code",
   "execution_count": null,
   "id": "659a0953",
   "metadata": {},
   "outputs": [],
   "source": [
    "#5 inputs, 1 output\n"
   ]
  },
  {
   "cell_type": "raw",
   "id": "7dfc57eb",
   "metadata": {},
   "source": [
    "b. Write an algorithm for converting the input items into output items."
   ]
  },
  {
   "cell_type": "code",
   "execution_count": 9,
   "id": "5ac15522",
   "metadata": {},
   "outputs": [],
   "source": [
    "#1. Define the quantities for half dollars, quarters, dimes, nickels, and pennies.\n",
    "'''\n",
    "hd=.5\n",
    "q=.25\n",
    "d=.1\n",
    "n=.05\n",
    "p=.01\n",
    "'''\n",
    "#2. Build the algorithm. \n",
    "def calcChange(numhd,numq,numd,numn,nump):\n",
    "    hd=.5\n",
    "    q=.25\n",
    "    d=.1\n",
    "    n=.05\n",
    "    p=.01\n",
    "    change=hd*numhd+q*numq+d*numd+n*numn+p*nump\n",
    "    return change\n",
    "\n"
   ]
  },
  {
   "cell_type": "raw",
   "id": "9ae0d9a5",
   "metadata": {},
   "source": [
    "c. Test the algorithm written for Exercise 1c using the following sample data: half dollars 10,  \n",
    "   quarters 7, dimes 240, nickels 6, and pennies 12.\n"
   ]
  },
  {
   "cell_type": "code",
   "execution_count": 11,
   "id": "a93ff978",
   "metadata": {},
   "outputs": [
    {
     "name": "stdout",
     "output_type": "stream",
     "text": [
      "$ 31.17\n"
     ]
    }
   ],
   "source": [
    "def calcChange(numhd,numq,numd,numn,nump):\n",
    "    hd=.5\n",
    "    q=.25\n",
    "    d=.1\n",
    "    n=.05\n",
    "    p=.01\n",
    "    change=hd*numhd+q*numq+d*numd+n*numn+p*nump\n",
    "    return change\n",
    "\n",
    "print('$',calcChange(10,7,240,6,12))\n",
    "#$31.17"
   ]
  },
  {
   "cell_type": "markdown",
   "id": "1f9d8183",
   "metadata": {},
   "source": [
    "# Question 2"
   ]
  },
  {
   "cell_type": "raw",
   "id": "c935ee31",
   "metadata": {},
   "source": [
    "You have been tasked to design a data container using tuples and list for the registrars office. This form would be used to request for transcripts from high schools. Please define the data elements for both the categories. \n"
   ]
  },
  {
   "cell_type": "raw",
   "id": "9aba34e3",
   "metadata": {},
   "source": [
    "Define List Data :\n",
    "\n",
    "1.Grade\n",
    "2.GPA\n",
    "3.Credits\n",
    "4.Age\n",
    "5.Current Classes\n"
   ]
  },
  {
   "cell_type": "raw",
   "id": "5d42efb5",
   "metadata": {},
   "source": [
    "Define Tuple Data :\n",
    "\n",
    "1.Name\n",
    "2.Student ID#\n",
    "3.School Name\n",
    "4.Class Name\n",
    "5.DOB\n"
   ]
  },
  {
   "cell_type": "markdown",
   "id": "9cfc8652",
   "metadata": {},
   "source": [
    "# Question 3"
   ]
  },
  {
   "cell_type": "raw",
   "id": "9504c23c",
   "metadata": {},
   "source": [
    "Write a Python program to compute the differences between 3 rectangles whose lengths are 5, 4 and 3 and breadths are 3, 4 and 5 respectively.  \n"
   ]
  },
  {
   "cell_type": "raw",
   "id": "dd8afc41",
   "metadata": {},
   "source": [
    "Step 1 : Following mnemonics, define the parameters.\n",
    "    \n",
    "Square A\n",
    "Length :  SA_L\n",
    "Breadth : SA_B\n",
    "\n",
    "Square B\n",
    "Length :  SB_L\n",
    "Breadth : SB_B\n",
    "\n",
    "Square C\n",
    "Length :  SC_L\n",
    "Breadth : SC_B\n"
   ]
  },
  {
   "cell_type": "code",
   "execution_count": null,
   "id": "f1d26485",
   "metadata": {},
   "outputs": [],
   "source": [
    "#Step 1 : Define the above parameters. \n",
    "s1l=5\n",
    "s1b=3\n",
    "s2l=4\n",
    "s2b=4\n",
    "s3l=3\n",
    "s3b=5"
   ]
  },
  {
   "cell_type": "raw",
   "id": "e194af78",
   "metadata": {},
   "source": [
    "Step 2 : What parametric differences can we have : \n",
    "    \n",
    "1. Length\n",
    "2. Breadth\n",
    "3. Perimeter\n",
    "4. Area \n"
   ]
  },
  {
   "cell_type": "raw",
   "id": "6e65451a",
   "metadata": {},
   "source": [
    "Step 3 : Compute Difference between Square A and Square B.\n",
    "    \n",
    "1. Length Difference between Square A and Square B :\n",
    "2. Breadth Difference between Square A and Square B :\n",
    "3. Perimeter Difference between Square A and Square B :\n",
    "4. Area Difference between Square A and Square B :\n",
    " "
   ]
  },
  {
   "cell_type": "code",
   "execution_count": 17,
   "id": "6013c3fc",
   "metadata": {},
   "outputs": [
    {
     "name": "stdout",
     "output_type": "stream",
     "text": [
      "1\n"
     ]
    }
   ],
   "source": [
    "def calcDifLength(l1,l2):\n",
    "    return l1-l2\n",
    "\n",
    "print(calcDifLength(5,4))"
   ]
  },
  {
   "cell_type": "code",
   "execution_count": 18,
   "id": "76575397",
   "metadata": {},
   "outputs": [
    {
     "name": "stdout",
     "output_type": "stream",
     "text": [
      "-1\n"
     ]
    }
   ],
   "source": [
    "def calcDifBreadth(b1,b2):\n",
    "    return b1-b2\n",
    "\n",
    "print(calcDifBreadth(3,4))"
   ]
  },
  {
   "cell_type": "code",
   "execution_count": 19,
   "id": "a0a97559",
   "metadata": {},
   "outputs": [
    {
     "name": "stdout",
     "output_type": "stream",
     "text": [
      "0\n"
     ]
    }
   ],
   "source": [
    "def calcDifPerim(l1,b1,l2,b2):\n",
    "    return (l1*2+b1*2)-(l2*2+b2*2)\n",
    "\n",
    "print(calcDifPerim(5,3,4,4))"
   ]
  },
  {
   "cell_type": "code",
   "execution_count": 20,
   "id": "26b84af2",
   "metadata": {},
   "outputs": [
    {
     "name": "stdout",
     "output_type": "stream",
     "text": [
      "-1\n"
     ]
    }
   ],
   "source": [
    "def calcDifArea(l1,b1,l2,b2):\n",
    "    return (l1*b1)-(l2*b2)\n",
    "\n",
    "print(calcDifArea(5,3,4,4))"
   ]
  },
  {
   "cell_type": "markdown",
   "id": "fa91f4e7",
   "metadata": {},
   "source": [
    "# Compute the differences for the remaining squares? "
   ]
  },
  {
   "cell_type": "code",
   "execution_count": 22,
   "id": "a903d3d4",
   "metadata": {},
   "outputs": [
    {
     "name": "stdout",
     "output_type": "stream",
     "text": [
      "1\n",
      "2\n",
      "-1\n",
      "-2\n",
      "0\n",
      "0\n",
      "1\n",
      "0\n"
     ]
    }
   ],
   "source": [
    "def calcDifLength(l1,l2):\n",
    "    return l1-l2\n",
    "\n",
    "def calcDifBreadth(b1,b2):\n",
    "    return b1-b2\n",
    "\n",
    "def calcDifPerim(l1,b1,l2,b2):\n",
    "    return (l1*2+b1*2)-(l2*2+b2*2)\n",
    "\n",
    "def calcDifPerim(l1,b1,l2,b2):\n",
    "    return (l1*2+b1*2)-(l2*2+b2*2)\n",
    "\n",
    "print(calcDifLength(4,3)) #b-c\n",
    "print(calcDifLength(5,3)) #a-c\n",
    "\n",
    "print(calcDifBreadth(4,5)) #b-c\n",
    "print(calcDifBreadth(3,5)) #a-c\n",
    "\n",
    "print(calcDifPerim(4,4,3,5)) #b-c\n",
    "print(calcDifPerim(5,3,3,5)) #a-c\n",
    "\n",
    "print(calcDifArea(4,4,3,5)) #b-c\n",
    "print(calcDifArea(5,3,3,5)) #a-c"
   ]
  },
  {
   "cell_type": "code",
   "execution_count": null,
   "id": "7dc6d0a5-e74e-4d31-9e62-e538f8c7b881",
   "metadata": {},
   "outputs": [],
   "source": []
  }
 ],
 "metadata": {
  "kernelspec": {
   "display_name": "Python 3 (ipykernel)",
   "language": "python",
   "name": "python3"
  },
  "language_info": {
   "codemirror_mode": {
    "name": "ipython",
    "version": 3
   },
   "file_extension": ".py",
   "mimetype": "text/x-python",
   "name": "python",
   "nbconvert_exporter": "python",
   "pygments_lexer": "ipython3",
   "version": "3.10.12"
  }
 },
 "nbformat": 4,
 "nbformat_minor": 5
}
