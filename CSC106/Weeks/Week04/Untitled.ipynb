{
 "cells": [
  {
   "cell_type": "code",
   "execution_count": 7,
   "id": "f177f55c-8c7d-44d3-a50c-b3170387be86",
   "metadata": {},
   "outputs": [
    {
     "data": {
      "text/plain": [
       "{'Name': 'Stevie Schoder', 'DOB': '08/15/2002', 'Current Age': 21}"
      ]
     },
     "execution_count": 7,
     "metadata": {},
     "output_type": "execute_result"
    }
   ],
   "source": [
    "### DICTIONARY contains key:value pairs\n",
    "\n",
    "ID= {\n",
    "    'Name':'Stevie Schoder',\n",
    "    'DOB':'08/15/2002',\n",
    "    'Current Age':21\n",
    "}\n",
    "ID\n"
   ]
  },
  {
   "cell_type": "code",
   "execution_count": 11,
   "id": "5878d006-9e10-44d9-af77-27dad22b55cb",
   "metadata": {},
   "outputs": [
    {
     "data": {
      "text/plain": [
       "dict_keys(['Name', 'DOB', 'Current Age'])"
      ]
     },
     "execution_count": 11,
     "metadata": {},
     "output_type": "execute_result"
    }
   ],
   "source": [
    "ID.keys()"
   ]
  },
  {
   "cell_type": "code",
   "execution_count": 12,
   "id": "25ae6717-d771-49f7-9b8f-e36df81df879",
   "metadata": {},
   "outputs": [
    {
     "data": {
      "text/plain": [
       "dict_values(['Stevie Schoder', '08/15/2002', 21])"
      ]
     },
     "execution_count": 12,
     "metadata": {},
     "output_type": "execute_result"
    }
   ],
   "source": [
    "ID.values()"
   ]
  },
  {
   "cell_type": "code",
   "execution_count": 45,
   "id": "a6f8b6db-21cc-4ee4-b7ab-71327b6765d5",
   "metadata": {},
   "outputs": [
    {
     "name": "stdout",
     "output_type": "stream",
     "text": [
      "{'Name': 'Stephen', 'DOB': '08/15/2002', 'Current Age': 21}\n",
      "08/15/2002\n",
      "N\n"
     ]
    }
   ],
   "source": [
    "print(ID)\n",
    "print(ID['DOB'])\n",
    "print(list(ID)[0][0]) # can print specific char from Dict"
   ]
  },
  {
   "cell_type": "code",
   "execution_count": 51,
   "id": "98bceb2d-f824-4154-b6a8-5ed30fecfd39",
   "metadata": {},
   "outputs": [
    {
     "name": "stdout",
     "output_type": "stream",
     "text": [
      "{'Name': 'Stephen', 'DOB': '08/15/2002', 'Current Age': 21, 'Hair color': 'Brown', '': ''}\n",
      "08/15/2002\n"
     ]
    }
   ],
   "source": [
    "ID[\"Name\"]=\"Stephen\" #replace key value\n",
    "print(ID)\n",
    "print(ID['DOB']) #Print key's value"
   ]
  },
  {
   "cell_type": "code",
   "execution_count": 50,
   "id": "3c864784-69df-421b-86b1-e2c48baf9bfe",
   "metadata": {},
   "outputs": [
    {
     "data": {
      "text/plain": [
       "{'Name': 'Stephen',\n",
       " 'DOB': '08/15/2002',\n",
       " 'Current Age': 21,\n",
       " 'Hair color': 'Brown',\n",
       " '': ''}"
      ]
     },
     "execution_count": 50,
     "metadata": {},
     "output_type": "execute_result"
    }
   ],
   "source": [
    "ID[\"Hair color\"]=\"Brown\"\n",
    "ID[\"\"]=\"\" #creates empty key:value\n",
    "ID"
   ]
  },
  {
   "cell_type": "code",
   "execution_count": 57,
   "id": "47b760b7-5ad7-4ec2-a826-71a7c547d385",
   "metadata": {},
   "outputs": [
    {
     "data": {
      "text/plain": [
       "5"
      ]
     },
     "execution_count": 57,
     "metadata": {},
     "output_type": "execute_result"
    }
   ],
   "source": [
    "len(ID) #gets length of element i.e. list, tuple, set, dict"
   ]
  },
  {
   "cell_type": "code",
   "execution_count": 62,
   "id": "0e151cdc-0ab5-4b3c-a6f2-b6f49b3d280d",
   "metadata": {},
   "outputs": [
    {
     "name": "stdin",
     "output_type": "stream",
     "text": [
      "What is your name?:     Stevie\n"
     ]
    },
    {
     "data": {
      "text/plain": [
       "'Stevie'"
      ]
     },
     "execution_count": 62,
     "metadata": {},
     "output_type": "execute_result"
    }
   ],
   "source": [
    "Name = input(\"What is your name?:    \")\n",
    "Name"
   ]
  },
  {
   "cell_type": "code",
   "execution_count": 68,
   "id": "e9762fe5-e6a5-42a1-ab0c-c897d9a90e32",
   "metadata": {},
   "outputs": [
    {
     "name": "stdout",
     "output_type": "stream",
     "text": [
      "<class 'dict'>\n"
     ]
    },
    {
     "data": {
      "text/plain": [
       "{'Name': 'Stephen Schoder',\n",
       " 'Class': 'CSC 106',\n",
       " 'Homework': 'Week04 Lab03',\n",
       " 'Question': 5,\n",
       " 'Grade': 3.9,\n",
       " 'Date': '9/29/23'}"
      ]
     },
     "execution_count": 68,
     "metadata": {},
     "output_type": "execute_result"
    }
   ],
   "source": [
    "Student_ID={\n",
    "    'Name':'Stephen Schoder',\n",
    "    'Class':'CSC 106',\n",
    "    'Homework':'Week04 Lab03',\n",
    "    'Question':5,\n",
    "    'Grade':3.9,\n",
    "    'Date':'9/29/23'\n",
    "}\n",
    "print(type(Student_ID))\n",
    "Student_ID"
   ]
  },
  {
   "cell_type": "code",
   "execution_count": 69,
   "id": "2b7f4351-ab13-4b0c-975f-0368df3bc149",
   "metadata": {},
   "outputs": [
    {
     "data": {
      "text/plain": [
       "{'Name': 'Stephen Schoder',\n",
       " 'Class': 'CSC105',\n",
       " 'Homework': 'Week04 Lab03',\n",
       " 'Question': 5,\n",
       " 'Grade': 3.9,\n",
       " 'Date': '9/29/23'}"
      ]
     },
     "execution_count": 69,
     "metadata": {},
     "output_type": "execute_result"
    }
   ],
   "source": [
    "Student_ID[\"Class\"]=\"CSC105\"\n",
    "Student_ID"
   ]
  },
  {
   "cell_type": "code",
   "execution_count": 70,
   "id": "f4bd6e1f-1d09-4919-b303-4d30c8d9d5c6",
   "metadata": {},
   "outputs": [
    {
     "data": {
      "text/plain": [
       "'Stephen Schoder'"
      ]
     },
     "execution_count": 70,
     "metadata": {},
     "output_type": "execute_result"
    }
   ],
   "source": [
    "Student_ID['Name']"
   ]
  },
  {
   "cell_type": "code",
   "execution_count": null,
   "id": "8db5a889-4ddb-4536-9e48-9cf7e19e9855",
   "metadata": {},
   "outputs": [],
   "source": []
  },
  {
   "cell_type": "code",
   "execution_count": 80,
   "id": "286c522b-ad4b-4df5-b6af-b7e2fbaf0eb8",
   "metadata": {},
   "outputs": [
    {
     "name": "stdin",
     "output_type": "stream",
     "text": [
      "What is your name?:     a\n",
      "What is your Class?:     a\n",
      "What is the Homework?:     a\n",
      "What is the Question?:     a\n",
      "What is your Grade?:     a\n",
      "What is the Date?:     a\n"
     ]
    },
    {
     "data": {
      "text/plain": [
       "{'Name': 'a',\n",
       " 'Class': 'a',\n",
       " 'Homework': 'a',\n",
       " 'Question': 'a',\n",
       " 'Grade': 'a',\n",
       " 'Date': 'a'}"
      ]
     },
     "execution_count": 80,
     "metadata": {},
     "output_type": "execute_result"
    }
   ],
   "source": [
    "testID={\n",
    "    'Name':'',\n",
    "    'Class':'',\n",
    "    'Homework':'',\n",
    "    'Question':'',\n",
    "    'Grade':'',\n",
    "    'Date':''\n",
    "}\n",
    "testID[\"Name\"]=input('What is your name?:    ')\n",
    "testID[\"Class\"]=input('What is your Class?:    ')\n",
    "testID[\"Homework\"]=input('What is the Homework?:    ')\n",
    "testID[\"Question\"]=input('What is the Question?:    ')\n",
    "testID[\"Grade\"]=input('What is your Grade?:    ')\n",
    "testID[\"Date\"]=input('What is the Date?:    ')\n",
    "testID"
   ]
  },
  {
   "cell_type": "code",
   "execution_count": null,
   "id": "94e0bd31-e002-48c1-a189-58b903ff08c6",
   "metadata": {},
   "outputs": [],
   "source": []
  }
 ],
 "metadata": {
  "kernelspec": {
   "display_name": "Python 3 (ipykernel)",
   "language": "python",
   "name": "python3"
  },
  "language_info": {
   "codemirror_mode": {
    "name": "ipython",
    "version": 3
   },
   "file_extension": ".py",
   "mimetype": "text/x-python",
   "name": "python",
   "nbconvert_exporter": "python",
   "pygments_lexer": "ipython3",
   "version": "3.10.12"
  }
 },
 "nbformat": 4,
 "nbformat_minor": 5
}
