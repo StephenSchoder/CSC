{
 "cells": [
  {
   "cell_type": "markdown",
   "id": "f90f39d2",
   "metadata": {},
   "source": [
    "# Tuples"
   ]
  },
  {
   "cell_type": "markdown",
   "id": "3053853b",
   "metadata": {},
   "source": [
    "A tuple represents a sequence of any objects separated by commas and enclosed in parentheses. A tuple is an immutable object, which means it cannot be changed, and we use it to represent fixed collections of items."
   ]
  },
  {
   "cell_type": "raw",
   "id": "668db254",
   "metadata": {},
   "source": [
    "example\n",
    "\n",
    "Numbers = (1.0, 9.9, 10)"
   ]
  },
  {
   "cell_type": "raw",
   "id": "ab7446a1",
   "metadata": {},
   "source": [
    "Question : Create a tuple item called - Name\n",
    "           Assign it to a variable called 'Student_ID'\n",
    "           What is the data type?  "
   ]
  },
  {
   "cell_type": "raw",
   "id": "20d8bb50",
   "metadata": {},
   "source": [
    "Question : Create a tuple for this set of information and assign to a variable called Student_ID. \n",
    "           Name : \n",
    "           Class : \n",
    "           Homework :\n",
    "           Question : \n",
    "           Date :    "
   ]
  },
  {
   "cell_type": "raw",
   "id": "a6b6754c",
   "metadata": {},
   "source": [
    "Question : How do you test for immutability in the above example?"
   ]
  },
  {
   "cell_type": "raw",
   "id": "0eec618f",
   "metadata": {},
   "source": [
    "tuple_A = (0, [1, 2, 3], (4, 5, 6), 7.0)\n",
    "\n",
    "Question :How do you access elements?\n",
    "          What are the data types of tuple_A and individual elements?\n",
    "          Can we insert elements in the tuple? \n",
    "        "
   ]
  },
  {
   "cell_type": "raw",
   "id": "78871630",
   "metadata": {},
   "source": [
    "Question : Can I change a Tuple to  ... something else ?\n"
   ]
  },
  {
   "cell_type": "markdown",
   "id": "20dbb54a",
   "metadata": {},
   "source": [
    "# Lists "
   ]
  },
  {
   "cell_type": "markdown",
   "id": "30872d91",
   "metadata": {},
   "source": [
    "A lists represents a sequence of any objects separated by commas and enclosed in square brackets. A list is a mutable object, which means it can be changed, and we use it to represent dynamic collections of items."
   ]
  },
  {
   "cell_type": "raw",
   "id": "d69d8414",
   "metadata": {},
   "source": [
    "example\n",
    "\n",
    "numbers =  [1, 2, 3, 4, 5, 6, 7, 8, 9, 10]"
   ]
  },
  {
   "cell_type": "raw",
   "id": "e1ce70ac",
   "metadata": {},
   "source": [
    "Question : Create a list for this set of information and assign to a variable called Student_ID. \n",
    "           Name : \n",
    "           Class : \n",
    "           Homework :\n",
    "           Question : \n",
    "           Date : "
   ]
  },
  {
   "cell_type": "raw",
   "id": "e7037145",
   "metadata": {},
   "source": [
    "Question : How do you test for mutability in the above example?\n",
    "           Can I do Insert Update and Delete .. just like SQL?"
   ]
  },
  {
   "cell_type": "raw",
   "id": "ae163a0d",
   "metadata": {},
   "source": [
    "list_A = [0, [1, 2, 3], (4, 5, 6), 7.0]\n",
    "\n",
    "Question :How do you access elements?\n",
    "          What are the data types of tuple_A and individual elements?\n",
    "          Can we insert elements in the tuple? "
   ]
  },
  {
   "cell_type": "raw",
   "id": "731d78ce",
   "metadata": {},
   "source": [
    "list_A = [0, [1, 2, 3], (4, 5, 6), 7.0]\n"
   ]
  },
  {
   "cell_type": "raw",
   "id": "e83694df",
   "metadata": {},
   "source": [
    "Question : Can I change a Tuple to  ... something else ?"
   ]
  },
  {
   "cell_type": "markdown",
   "id": "f70f6e50",
   "metadata": {},
   "source": [
    "# Set "
   ]
  },
  {
   "cell_type": "markdown",
   "id": "292648d6",
   "metadata": {},
   "source": [
    "We create sets by placing all the elements inside curly braces {}, separated by comma. A set can have any number of items and they may be of different types (integer, float, tuple, string etc.). But a set cannot have mutable elements like lists, sets or dictionaries as its elements."
   ]
  },
  {
   "cell_type": "raw",
   "id": "f3da7210",
   "metadata": {},
   "source": [
    "# create a set of integer type\n",
    "student_id = {1, 2, 3, 4, 5}\n",
    "print('Student ID:', student_id)\n",
    "\n",
    "# create a set of string type\n",
    "Language = {'P', 'y', 't', 'h', 'o', 'n'}\n",
    "print('Language :', Language)\n",
    "\n",
    "# create a set of mixed data types\n",
    "mixed_set = {'Hello', 'CSC325', 'Students'}\n",
    "print('Set of mixed data types:', mixed_set)"
   ]
  },
  {
   "cell_type": "raw",
   "id": "255b803c",
   "metadata": {},
   "source": [
    "# create an empty set\n",
    "empty_set = set()\n"
   ]
  },
  {
   "cell_type": "raw",
   "id": "41131706",
   "metadata": {},
   "source": [
    "#print numbers and share the results findings?\n",
    "\n",
    "numbers = {2, 4, 6, 6, 2, 8}"
   ]
  },
  {
   "cell_type": "raw",
   "id": "c8b304b8",
   "metadata": {},
   "source": [
    "#Add any number to the set using\n",
    "\n",
    "variable.add(any_number)"
   ]
  },
  {
   "cell_type": "raw",
   "id": "3e887133",
   "metadata": {},
   "source": [
    "classes={'Math','Physics','Chemistry','Biology'}\n",
    "new_class=['English']\n",
    "\n",
    "OLD.update(NEW)\n",
    "\n",
    "Change from a Lists to a Tuple?"
   ]
  },
  {
   "cell_type": "raw",
   "id": "ebe408be",
   "metadata": {},
   "source": [
    "Question : Remove English from Classes\n",
    "    \n",
    "_____________.discard('__________')\n",
    "\n"
   ]
  },
  {
   "cell_type": "markdown",
   "id": "bcdb3f77",
   "metadata": {},
   "source": [
    "# Dictionary"
   ]
  },
  {
   "cell_type": "markdown",
   "id": "9adc0fee",
   "metadata": {},
   "source": [
    "The dictionary is an unordered collection that contains key:value pairs separated by commas inside curly brackets. Dictionaries are optimized to retrieve values when the key is known."
   ]
  },
  {
   "cell_type": "raw",
   "id": "fb6cae62",
   "metadata": {},
   "source": [
    "Create a Dictionary with 3pair of elements say ...a web based form.\n",
    "\n",
    "Web_Form_HR = {\"_____\":\"_____\", \"_____\":\"_____\", \"_____\":\"_____\"}\n",
    "print(type(Web_Form_HR))\n"
   ]
  },
  {
   "cell_type": "raw",
   "id": "dcf4eabd",
   "metadata": {},
   "source": [
    "How do we access the second element?\n",
    "\n",
    "Change the value of the last pair?\n",
    "\n",
    "Web_Form_HR['___________']='__________'\n",
    "\n",
    "del __________[key]  \n",
    "\n",
    "Retrieve : _________.keys()\n",
    "           _________.values()\n",
    "           \n",
    "b = 'key' in Web_Form_HR\n",
    "\n",
    "\n",
    "           "
   ]
  },
  {
   "cell_type": "markdown",
   "id": "c9169323",
   "metadata": {},
   "source": [
    "# Review : Let me know "
   ]
  },
  {
   "cell_type": "markdown",
   "id": "60aa498d",
   "metadata": {},
   "source": [
    "Question : Create a lists item called - Name\n",
    "           Assign it to a variable called 'Student_ID'\n",
    "           What is the data type? \n",
    "            "
   ]
  },
  {
   "cell_type": "raw",
   "id": "c4af1f85",
   "metadata": {},
   "source": [
    "\n",
    "1. Access the last element\n",
    "2. Access the 2 and 3 element in the Student_ID for both List and Tuple.\n",
    "3. Read an entire of the csv/xlsx file as tuples, list, set, dictionary.\n",
    "4. Write a for loop to iterate through the elements. \n"
   ]
  }
 ],
 "metadata": {
  "kernelspec": {
   "display_name": "Python 3 (ipykernel)",
   "language": "python",
   "name": "python3"
  },
  "language_info": {
   "codemirror_mode": {
    "name": "ipython",
    "version": 3
   },
   "file_extension": ".py",
   "mimetype": "text/x-python",
   "name": "python",
   "nbconvert_exporter": "python",
   "pygments_lexer": "ipython3",
   "version": "3.10.12"
  }
 },
 "nbformat": 4,
 "nbformat_minor": 5
}
