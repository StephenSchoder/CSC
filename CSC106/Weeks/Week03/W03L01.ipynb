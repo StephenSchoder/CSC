{
 "cells": [
  {
   "cell_type": "code",
   "execution_count": 8,
   "id": "72d4a1ba-f00a-47a1-bf72-dded9269c303",
   "metadata": {},
   "outputs": [
    {
     "name": "stdout",
     "output_type": "stream",
     "text": [
      "1\n"
     ]
    },
    {
     "data": {
      "text/plain": [
       "int"
      ]
     },
     "execution_count": 8,
     "metadata": {},
     "output_type": "execute_result"
    }
   ],
   "source": [
    "'''\n",
    "tuples MUST have () in creation, not [] or {}. ( , , , )\n",
    "'''\n",
    "Student_Names = (\"John\", 1, \"Paul\")\n",
    "print(Student_Names[1])\n",
    "type(Student_Names[1])"
   ]
  },
  {
   "cell_type": "code",
   "execution_count": 11,
   "id": "bad80187-831f-4036-aa5e-20ec38f08b99",
   "metadata": {},
   "outputs": [
    {
     "data": {
      "text/plain": [
       "str"
      ]
     },
     "execution_count": 11,
     "metadata": {},
     "output_type": "execute_result"
    }
   ],
   "source": [
    "asdf = (\"tasdf\")\n",
    "type(asdf)"
   ]
  },
  {
   "cell_type": "code",
   "execution_count": 16,
   "id": "a997beb6-efc3-4796-ac5f-b4a44678f830",
   "metadata": {},
   "outputs": [
    {
     "ename": "TypeError",
     "evalue": "'tuple' object does not support item assignment",
     "output_type": "error",
     "traceback": [
      "\u001b[0;31m---------------------------------------------------------------------------\u001b[0m",
      "\u001b[0;31mTypeError\u001b[0m                                 Traceback (most recent call last)",
      "Cell \u001b[0;32mIn[16], line 2\u001b[0m\n\u001b[1;32m      1\u001b[0m Student_ID \u001b[38;5;241m=\u001b[39m (\u001b[38;5;124m'\u001b[39m\u001b[38;5;124mJohn Doe\u001b[39m\u001b[38;5;124m'\u001b[39m, \u001b[38;5;124m'\u001b[39m\u001b[38;5;124mCSC106\u001b[39m\u001b[38;5;124m'\u001b[39m, \u001b[38;5;124m'\u001b[39m\u001b[38;5;124mLab 1\u001b[39m\u001b[38;5;124m'\u001b[39m, \u001b[38;5;241m1\u001b[39m, \u001b[38;5;241m3.6\u001b[39m, \u001b[38;5;124m'\u001b[39m\u001b[38;5;124m9/18/23\u001b[39m\u001b[38;5;124m'\u001b[39m)\n\u001b[0;32m----> 2\u001b[0m \u001b[43mStudent_ID\u001b[49m\u001b[43m[\u001b[49m\u001b[38;5;241;43m4\u001b[39;49m\u001b[43m]\u001b[49m\u001b[38;5;241m=\u001b[39m\u001b[38;5;241m3.6\u001b[39m\n",
      "\u001b[0;31mTypeError\u001b[0m: 'tuple' object does not support item assignment"
     ]
    }
   ],
   "source": [
    "Student_ID = ('John Doe', 'CSC106', 'Lab 1', 1, 3.6, '9/18/23')\n",
    "Student_ID[4]=3.6"
   ]
  },
  {
   "cell_type": "code",
   "execution_count": 20,
   "id": "8af9948e-7c69-4642-8478-b3ffd2115259",
   "metadata": {},
   "outputs": [
    {
     "data": {
      "text/plain": [
       "list"
      ]
     },
     "execution_count": 20,
     "metadata": {},
     "output_type": "execute_result"
    }
   ],
   "source": [
    "tuple_A= (0,[1,2,3],(4,5,6,),7.0)\n",
    "type(tuple_A[1])"
   ]
  },
  {
   "cell_type": "code",
   "execution_count": 22,
   "id": "0130b089-9e53-4af4-93e9-329026d5fbe1",
   "metadata": {},
   "outputs": [
    {
     "data": {
      "text/plain": [
       "list"
      ]
     },
     "execution_count": 22,
     "metadata": {},
     "output_type": "execute_result"
    }
   ],
   "source": [
    "#Tuple to list\n",
    "\n",
    "number_tuple = (1,2,3)\n",
    "number_list = list(number_tuple)\n",
    "type(number_list)"
   ]
  },
  {
   "cell_type": "code",
   "execution_count": 17,
   "id": "1e0ed2bd-f632-415e-86f1-2a73641ebe3f",
   "metadata": {},
   "outputs": [
    {
     "name": "stdout",
     "output_type": "stream",
     "text": [
      "1\n",
      "2\n",
      "3\n",
      "4\n",
      "5\n",
      "6\n",
      "7\n",
      "8\n",
      "9\n",
      "10\n",
      "[1, 2, 3, 4, 5, 6, 7, 8, 9, 10, 11]\n",
      "[1, 'cow', 2, 3, 4, 5, 6, 7, 8, 9, 10, 11]\n",
      "[1, 'cow', 2, 3, 4, 5, 6, 7, 8, 9, 10, 11, 1, 'cow', 2, 3, 4, 5, 6, 7, 8, 9, 10, 11]\n",
      "[1, 2, 3, 4, 5, 6, 7, 8, 9, 10, 11, 1, 'cow', 2, 3, 4, 5, 6, 7, 8, 9, 10, 11]\n"
     ]
    }
   ],
   "source": [
    "#lists now\n",
    "\n",
    "numbers = [None]*10\n",
    "for i in range(0,10):\n",
    "    numbers[i]=(i+1)\n",
    "    print(numbers[i])\n",
    "#append adds to the end\n",
    "numbers.append(11)\n",
    "print(numbers)\n",
    "#instert at x position, (pos,data)\n",
    "numbers.insert(1,'cow')\n",
    "print(numbers)\n",
    "#extends another list to end of current one \n",
    "numbers.extend(numbers)\n",
    "print(numbers)\n",
    "#removes element from list\n",
    "numbers.remove('cow')\n",
    "print(numbers)"
   ]
  },
  {
   "cell_type": "code",
   "execution_count": 16,
   "id": "18c99ad8-d58a-4073-828d-89ce43d06e51",
   "metadata": {},
   "outputs": [
    {
     "name": "stdout",
     "output_type": "stream",
     "text": [
      "[[0, 1, 2, 3, 4], [1, 2, 3, 4, 5], [2, 3, 4, 5, 6], [3, 4, 5, 6, 7], [4, 5, 6, 7, 8]]\n"
     ]
    }
   ],
   "source": [
    "rows=5\n",
    "col=5\n",
    "TwoDArray = [[None for x in range(col)] for x in range(rows)]\n",
    "for i in range(rows):\n",
    "    for j in range(col):\n",
    "        TwoDArray[i][j] = i+j\n",
    "\n",
    "print(TwoDArray)"
   ]
  },
  {
   "cell_type": "code",
   "execution_count": 25,
   "id": "3b4b2401-5650-4484-9c02-ff068efd46ae",
   "metadata": {},
   "outputs": [
    {
     "name": "stdout",
     "output_type": "stream",
     "text": [
      "[[None, None], [None, None], [None, None], [None, None], [None, None]]\n",
      "[['Name: ', None], [None, None], [None, None], [None, None], [None, None]]\n"
     ]
    }
   ],
   "source": [
    "row=5\n",
    "col=2\n",
    "Student_ID=[[None for x in range(col)] for x in range(row)]\n",
    "#[['Name: ','Class: ','Grade: ','Date: ','School: ']*2] #'Stephen Schoder','CSC 106',3.6,'9/19/23','UMary']\n",
    "print(Student_ID)\n",
    "Student_ID[0][0]='Name: '\n",
    "Student_ID[0][0]=\n",
    "Student_ID[0][0]=\n",
    "Student_ID[0][0]=\n",
    "Student_ID[0][0]=\n",
    "print(Student_ID)"
   ]
  },
  {
   "cell_type": "code",
   "execution_count": 31,
   "id": "f5d58d43-289e-4213-ac03-104650c06bcd",
   "metadata": {},
   "outputs": [
    {
     "name": "stdout",
     "output_type": "stream",
     "text": [
      "[['Name: ', 'Stephen Schoder'], ['Address: ', 'where i live'], ['Email: ', 'myemail@gmail.com'], ['School: ', 'UMary'], ['Department: ', 'Comp Scie'], ['Class: ', 'CSC 106'], ['Credits: ', 15], ['Grade: ', 4.0]]\n"
     ]
    }
   ],
   "source": [
    "perInf= [['Name: ','Stephen Schoder'],['Address: ','where i live'],['Email: ','myemail@gmail.com']]\n",
    "acdInf= [['School: ','UMary'],['Department: ','Comp Scie'],['Class: ','CSC 106'],['Credits: ',15],['Grade: ',4.0]]\n",
    "perInf.extend(acdInf)\n",
    "print(perInf)"
   ]
  },
  {
   "cell_type": "code",
   "execution_count": 36,
   "id": "1f503291-0b11-4f60-9800-1a3d7e29ac21",
   "metadata": {},
   "outputs": [
    {
     "data": {
      "text/plain": [
       "int"
      ]
     },
     "execution_count": 36,
     "metadata": {},
     "output_type": "execute_result"
    }
   ],
   "source": [
    "list_A=[0,[1,2,3],(4,5,6),7.0]\n",
    "type(list_A[2][0])\n",
    "#imagine any higher dimension array as a 1D array with x more 1D arrays in. When accessing a tuple\\array in an array, treat as xD array i.e. list[2][4]"
   ]
  },
  {
   "cell_type": "code",
   "execution_count": 38,
   "id": "2f1ae591-99d6-4abe-983e-369e1842ae77",
   "metadata": {},
   "outputs": [
    {
     "data": {
      "text/plain": [
       "tuple"
      ]
     },
     "execution_count": 38,
     "metadata": {},
     "output_type": "execute_result"
    }
   ],
   "source": [
    "list=[1,2,3]\n",
    "type(list)\n",
    "list=tuple(list)\n",
    "type(list)"
   ]
  },
  {
   "cell_type": "code",
   "execution_count": null,
   "id": "53955844-6164-487d-8b0a-5cc83583ff4d",
   "metadata": {},
   "outputs": [],
   "source": []
  }
 ],
 "metadata": {
  "kernelspec": {
   "display_name": "Python 3 (ipykernel)",
   "language": "python",
   "name": "python3"
  },
  "language_info": {
   "codemirror_mode": {
    "name": "ipython",
    "version": 3
   },
   "file_extension": ".py",
   "mimetype": "text/x-python",
   "name": "python",
   "nbconvert_exporter": "python",
   "pygments_lexer": "ipython3",
   "version": "3.10.12"
  }
 },
 "nbformat": 4,
 "nbformat_minor": 5
}
