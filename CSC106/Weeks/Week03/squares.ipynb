{
 "cells": [
  {
   "cell_type": "code",
   "execution_count": null,
   "metadata": {},
   "outputs": [],
   "source": [
    "'''\n",
    "Stephen 'Stevie' Schoder\n",
    "CSC 106\n",
    "Quiz thing\n",
    "9/15/23\n",
    "'''\n",
    "\n",
    "def calcSquarea(l,w):\n",
    "    return l*w\n",
    "def calcSqPerimiter(l,w):\n",
    "    return l*2+w*2\n",
    "#AREA\n",
    "#for lenth of 5 and 4\n",
    "print(\"The area difference between the squares with the lengths of 5 and 4:\")\n",
    "print(calcSquarea(5,5)-calcSquarea(4,4))\n",
    "#for lenth of 4 and 3\n",
    "print(\"The area difference between the squares with the lengths of 4 and 3:\")\n",
    "print(calcSquarea(4,4)-calcSquarea(3,3))\n",
    "#for lenth of 5 and 3\n",
    "print(\"The area difference between the squares with the lengths of 5 and 3:\")\n",
    "print(calcSquarea(5,5)-calcSquarea(3,3))\n",
    "#PERIMETER\n",
    "#for lenth of 5 and 4\n",
    "print(\"The perimeter difference between the squares with the lengths of 5 and 4:\")\n",
    "print(calcSqPerimiter(5,5)-calcSqPerimiter(4,4))\n",
    "#for lenth of 4 and 3\n",
    "print(\"The perimeter difference between the squares with the lengths of 4 and 3:\")\n",
    "print(calcSqPerimiter(4,4)-calcSqPerimiter(3,3))\n",
    "#for lenth of 5 and 3\n",
    "print(\"The perimeter difference between the squares with the lengths of 5 and 3:\")\n",
    "print(calcSqPerimiter(5,5)-calcSqPerimiter(3,3))"
   ]
  }
 ],
 "metadata": {
  "language_info": {
   "name": "python"
  },
  "orig_nbformat": 4
 },
 "nbformat": 4,
 "nbformat_minor": 2
}
