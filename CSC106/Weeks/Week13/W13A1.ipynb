{
 "cells": [
  {
   "cell_type": "markdown",
   "metadata": {},
   "source": [
    "Stephen Schoder\n",
    "Week13A1\n",
    "CSC106\n",
    "\n",
    "Explore a range of prime numbers say from 1 to 100.  \n",
    "Explore a range of 'e' values. \n",
    "Test with this 3 messages : 0, 5 and 10. \n",
    "\n",
    "n = p*q\n",
    "phi(n) = (p-1)*(q-1)\n",
    "Choose a value of e such that 1<e<phi(n) and gcd(phi(n), e) = 1\n",
    "\n"
   ]
  },
  {
   "cell_type": "code",
   "execution_count": 17,
   "metadata": {},
   "outputs": [
    {
     "name": "stdout",
     "output_type": "stream",
     "text": [
      "Fianlly!\n"
     ]
    }
   ],
   "source": [
    "p=13\n",
    "q=97\n",
    "n=p*q\n",
    "\n",
    "T=(p-1)*(q-1)\n",
    "#1<e<T\n",
    "#e=23       public key={e,n} private key={d,n} \n",
    "#e=29       \n",
    "e=31        \n",
    "d=(e**-1)%T\n",
    "M=0\n",
    "C=(M**e)%n\n",
    "D=(C**d)%n\n",
    "if M==D:\n",
    "    print('Fianlly!')\n",
    "else: print('Not again!')"
   ]
  },
  {
   "cell_type": "code",
   "execution_count": null,
   "metadata": {},
   "outputs": [],
   "source": []
  }
 ],
 "metadata": {
  "kernelspec": {
   "display_name": "Python 3",
   "language": "python",
   "name": "python3"
  },
  "language_info": {
   "codemirror_mode": {
    "name": "ipython",
    "version": 3
   },
   "file_extension": ".py",
   "mimetype": "text/x-python",
   "name": "python",
   "nbconvert_exporter": "python",
   "pygments_lexer": "ipython3",
   "version": "3.10.12"
  }
 },
 "nbformat": 4,
 "nbformat_minor": 2
}
