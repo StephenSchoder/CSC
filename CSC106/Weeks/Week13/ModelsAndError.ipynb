{
 "cells": [
  {
   "cell_type": "markdown",
   "metadata": {},
   "source": [
    "RMSE:\n",
    "\n",
    "Root    (To undo the square)\n",
    "Mean    (Average)\n",
    "Square  ()\n",
    "Error   ()"
   ]
  },
  {
   "cell_type": "code",
   "execution_count": 11,
   "metadata": {},
   "outputs": [
    {
     "name": "stdout",
     "output_type": "stream",
     "text": [
      "70.689616 [[128 155 162 ... 182 169 166]\n",
      " [175 192 150 ... 181 168 166]\n",
      " [193 192 122 ... 178 175 175]\n",
      " ...\n",
      " [  0   0   0 ...   0   0   0]\n",
      " [  0   0   0 ...   0   0   0]\n",
      " [  0   0   0 ...   0   0   0]]\n"
     ]
    }
   ],
   "source": [
    "import cv2\n",
    "import numpy as np\n",
    "\n",
    "img1=cv2.imread('/home/student/CSC106/Weeks/Week13/panda1.jpg')\n",
    "img2=cv2.imread('/home/student/CSC106/Weeks/Week13/panda2.jpg')\n",
    "\n",
    "img1=cv2.cvtColor(img1, cv2.COLOR_BGR2GRAY)\n",
    "img2=cv2.cvtColor(img2, cv2.COLOR_BGR2GRAY)\n",
    "\n",
    "def mse(img1, img2):\n",
    "    h, w =img1.shape\n",
    "    diff=cv2.subtract(img1,img2)\n",
    "    err=np.sum(diff**2)\n",
    "    mse=err/(float(h*w))\n",
    "    return mse,diff\n",
    "\n",
    "error, diff=mse(img1,img2)\n",
    "print(error, diff)"
   ]
  },
  {
   "cell_type": "code",
   "execution_count": null,
   "metadata": {},
   "outputs": [],
   "source": []
  }
 ],
 "metadata": {
  "kernelspec": {
   "display_name": "Python 3",
   "language": "python",
   "name": "python3"
  },
  "language_info": {
   "codemirror_mode": {
    "name": "ipython",
    "version": 3
   },
   "file_extension": ".py",
   "mimetype": "text/x-python",
   "name": "python",
   "nbconvert_exporter": "python",
   "pygments_lexer": "ipython3",
   "version": "3.10.12"
  }
 },
 "nbformat": 4,
 "nbformat_minor": 2
}
