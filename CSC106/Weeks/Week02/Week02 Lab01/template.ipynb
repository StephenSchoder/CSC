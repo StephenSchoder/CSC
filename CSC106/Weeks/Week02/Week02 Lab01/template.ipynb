{
 "cells": [
  {
   "cell_type": "code",
   "execution_count": 1,
   "id": "bbaec1c9-b5eb-4577-8a31-6b6d0f894fa8",
   "metadata": {},
   "outputs": [
    {
     "name": "stdout",
     "output_type": "stream",
     "text": [
      "Hello World!\n"
     ]
    }
   ],
   "source": [
    "print(\"Hello World!\")"
   ]
  },
  {
   "cell_type": "code",
   "execution_count": 2,
   "id": "3a6904ab-0365-4f9e-ba4e-088ce04d6955",
   "metadata": {},
   "outputs": [],
   "source": [
    "#print(\"Hello World!\")"
   ]
  },
  {
   "cell_type": "code",
   "execution_count": 5,
   "id": "f6d55701-f870-4caf-863c-ba6aed0479d0",
   "metadata": {},
   "outputs": [
    {
     "data": {
      "text/plain": [
       "'\\nStephen Schoder\\nCSC106 @ 1pm\\nHW #\\nQuestion number\\nDate\\n'"
      ]
     },
     "execution_count": 5,
     "metadata": {},
     "output_type": "execute_result"
    }
   ],
   "source": [
    "'''\n",
    "Stephen Schoder\n",
    "CSC106 @ 1pm\n",
    "HW # w2l1\n",
    "Question number: 1\n",
    "Date:9/11/23\n",
    "'''"
   ]
  },
  {
   "cell_type": "code",
   "execution_count": 10,
   "id": "2d081695-0264-426b-bbfb-0270f6fc7c2f",
   "metadata": {},
   "outputs": [
    {
     "name": "stdout",
     "output_type": "stream",
     "text": [
      "hello \n",
      " world\n"
     ]
    }
   ],
   "source": [
    "print(\"hello \\n world\")"
   ]
  },
  {
   "cell_type": "code",
   "execution_count": 11,
   "id": "09614034-3a40-483d-ad43-faecacf92817",
   "metadata": {},
   "outputs": [
    {
     "name": "stdout",
     "output_type": "stream",
     "text": [
      "hello \t world\n"
     ]
    }
   ],
   "source": [
    "print(\"hello \\t world\")"
   ]
  },
  {
   "cell_type": "code",
   "execution_count": 14,
   "id": "644905e5-3c46-483c-a531-668e02ebaa3e",
   "metadata": {},
   "outputs": [
    {
     "name": "stdout",
     "output_type": "stream",
     "text": [
      "\t*\n"
     ]
    }
   ],
   "source": [
    "print(\"\\t*\")"
   ]
  },
  {
   "cell_type": "code",
   "execution_count": 18,
   "id": "b3c0db86-d22a-4628-bdff-0d5d6f0db8e0",
   "metadata": {},
   "outputs": [
    {
     "name": "stdout",
     "output_type": "stream",
     "text": [
      "   *\n",
      "*     *\n",
      "  * *\n"
     ]
    }
   ],
   "source": [
    "print(\"   *\\n*     *\\n  * *\")"
   ]
  },
  {
   "cell_type": "code",
   "execution_count": 27,
   "id": "0ac6fc8f-0e91-4906-8b82-04df93641e5e",
   "metadata": {},
   "outputs": [
    {
     "name": "stdout",
     "output_type": "stream",
     "text": [
      "\t*\n",
      "\n",
      "    *\t    *\n",
      "\n",
      "      *  *\n"
     ]
    }
   ],
   "source": [
    "print(\"\\t*\\n\\n    *\\t    *\\n\\n      *  *\")"
   ]
  },
  {
   "cell_type": "code",
   "execution_count": null,
   "id": "a4cc789c-e5c1-4eda-a113-79cd62055698",
   "metadata": {},
   "outputs": [],
   "source": []
  }
 ],
 "metadata": {
  "kernelspec": {
   "display_name": "Python 3 (ipykernel)",
   "language": "python",
   "name": "python3"
  },
  "language_info": {
   "codemirror_mode": {
    "name": "ipython",
    "version": 3
   },
   "file_extension": ".py",
   "mimetype": "text/x-python",
   "name": "python",
   "nbconvert_exporter": "python",
   "pygments_lexer": "ipython3",
   "version": "3.10.12"
  }
 },
 "nbformat": 4,
 "nbformat_minor": 5
}
