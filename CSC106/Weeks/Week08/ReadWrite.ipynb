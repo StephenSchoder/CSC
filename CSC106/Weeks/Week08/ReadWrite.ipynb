{
 "cells": [
  {
   "cell_type": "markdown",
   "id": "1a1d508d",
   "metadata": {},
   "source": [
    "Stephen Schoder aka \"Stevie\"\n",
    "CSC106\n",
    "ReadWrite from files\n",
    "Week8"
   ]
  },
  {
   "cell_type": "code",
   "execution_count": 2,
   "id": "e042870a-45ad-4d6d-b4be-4cb2ede36d2e",
   "metadata": {},
   "outputs": [
    {
     "data": {
      "text/html": [
       "<div>\n",
       "<style scoped>\n",
       "    .dataframe tbody tr th:only-of-type {\n",
       "        vertical-align: middle;\n",
       "    }\n",
       "\n",
       "    .dataframe tbody tr th {\n",
       "        vertical-align: top;\n",
       "    }\n",
       "\n",
       "    .dataframe thead th {\n",
       "        text-align: right;\n",
       "    }\n",
       "</style>\n",
       "<table border=\"1\" class=\"dataframe\">\n",
       "  <thead>\n",
       "    <tr style=\"text-align: right;\">\n",
       "      <th></th>\n",
       "      <th>Gender</th>\n",
       "      <th>Class Standing</th>\n",
       "      <th>Count</th>\n",
       "      <th>Weight</th>\n",
       "    </tr>\n",
       "  </thead>\n",
       "  <tbody>\n",
       "    <tr>\n",
       "      <th>0</th>\n",
       "      <td>Male</td>\n",
       "      <td>Good</td>\n",
       "      <td>2</td>\n",
       "      <td>165</td>\n",
       "    </tr>\n",
       "    <tr>\n",
       "      <th>1</th>\n",
       "      <td>Female</td>\n",
       "      <td>Average</td>\n",
       "      <td>3</td>\n",
       "      <td>170</td>\n",
       "    </tr>\n",
       "    <tr>\n",
       "      <th>2</th>\n",
       "      <td>Male</td>\n",
       "      <td>Bad</td>\n",
       "      <td>2</td>\n",
       "      <td>155</td>\n",
       "    </tr>\n",
       "    <tr>\n",
       "      <th>3</th>\n",
       "      <td>Female</td>\n",
       "      <td>Good</td>\n",
       "      <td>1</td>\n",
       "      <td>140</td>\n",
       "    </tr>\n",
       "  </tbody>\n",
       "</table>\n",
       "</div>"
      ],
      "text/plain": [
       "   Gender Class Standing  Count  Weight\n",
       "0    Male           Good      2     165\n",
       "1  Female        Average      3     170\n",
       "2    Male            Bad      2     155\n",
       "3  Female           Good      1     140"
      ]
     },
     "execution_count": 2,
     "metadata": {},
     "output_type": "execute_result"
    }
   ],
   "source": [
    "import pandas as pd\n",
    "DF=pd.read_csv('Data.csv')\n",
    "DF"
   ]
  },
  {
   "cell_type": "code",
   "execution_count": 4,
   "id": "1c448c69-caeb-42c2-9ccc-e0c49bd1592e",
   "metadata": {},
   "outputs": [
    {
     "data": {
      "text/plain": [
       "0      Male\n",
       "1    Female\n",
       "2      Male\n",
       "3    Female\n",
       "Name: Gender, dtype: object"
      ]
     },
     "execution_count": 4,
     "metadata": {},
     "output_type": "execute_result"
    }
   ],
   "source": [
    "DF['Gender'] #[]=single column"
   ]
  },
  {
   "cell_type": "code",
   "execution_count": 5,
   "id": "e2c86037-f29a-4ea6-b4e7-ee8dbd00fd08",
   "metadata": {},
   "outputs": [
    {
     "data": {
      "text/plain": [
       "'Male'"
      ]
     },
     "execution_count": 5,
     "metadata": {},
     "output_type": "execute_result"
    }
   ],
   "source": [
    "DF['Gender'][2] #[][]= single element from single column"
   ]
  },
  {
   "cell_type": "code",
   "execution_count": 6,
   "id": "8ab96537-d98b-4574-8d19-9783b4265ec0",
   "metadata": {},
   "outputs": [
    {
     "data": {
      "text/plain": [
       "'e'"
      ]
     },
     "execution_count": 6,
     "metadata": {},
     "output_type": "execute_result"
    }
   ],
   "source": [
    "DF['Gender'][2][3] #[][][]= single char from single element from single column"
   ]
  },
  {
   "cell_type": "code",
   "execution_count": 7,
   "id": "8133cacf-f878-4cd9-abfc-005ea4ab6a11",
   "metadata": {},
   "outputs": [
    {
     "ename": "IndentationError",
     "evalue": "unexpected indent (3998752967.py, line 2)",
     "output_type": "error",
     "traceback": [
      "\u001b[0;36m  Cell \u001b[0;32mIn[7], line 2\u001b[0;36m\u001b[0m\n\u001b[0;31m    Categorical <   #-- qualitative! gender, class-standing\u001b[0m\n\u001b[0m    ^\u001b[0m\n\u001b[0;31mIndentationError\u001b[0m\u001b[0;31m:\u001b[0m unexpected indent\n"
     ]
    }
   ],
   "source": [
    "\n",
    "\n",
    "                            Ordinal    #class standing\n",
    "            Categorical <   #-- qualitative! gender, class-standing\n",
    "                            Nominal    #gender\n",
    "DataTypes <\n",
    "                            Discrete   #count\n",
    "            Numerical   <   #-- quantitative! count, weight\n",
    "                            Continuous #weight\n",
    "\n"
   ]
  },
  {
   "cell_type": "markdown",
   "id": "9b08c5bd",
   "metadata": {},
   "source": [
    "\n",
    "\n",
    "                            Ordinal    #class standing\n",
    "            Categorical <   #-- qualitative! gender, class-standing\n",
    "                            Nominal    #gender\n",
    "DataTypes <\n",
    "                            Discrete   #count\n",
    "            Numerical   <   #-- quantitative! count, weight\n",
    "                            Continuous #weight\n",
    "\n"
   ]
  },
  {
   "cell_type": "code",
   "execution_count": 4,
   "id": "eb35c319-7128-4016-8bc4-84c5ffc8155d",
   "metadata": {},
   "outputs": [
    {
     "name": "stdout",
     "output_type": "stream",
     "text": [
      "  Student  Grade\n",
      "0    Mary     90\n",
      "1     Tom     91\n",
      "2    Jose     92\n",
      "Tom\n"
     ]
    }
   ],
   "source": [
    "import pandas as pd\n",
    "data={\n",
    "    \"Student\":['Mary','Tom','Jose'],\n",
    "    \"Grade\":[90,91,92]\n",
    "}\n",
    "\n",
    "#Lad data into a DataFrame object:\n",
    "df=pd.DataFrame(data)\n",
    "\n",
    "print(df)"
   ]
  },
  {
   "cell_type": "code",
   "execution_count": 5,
   "id": "7accf75b",
   "metadata": {},
   "outputs": [
    {
     "name": "stdout",
     "output_type": "stream",
     "text": [
      "        Student  Grade\n",
      "CSC 106    Mary     90\n",
      "ENR 100     Tom     91\n",
      "CIS 345    Jose     92\n"
     ]
    }
   ],
   "source": [
    "#to change DataFrame index (first line i.e. 0,1,2,3,...)\n",
    "df=pd.DataFrame(data, index=[\"CSC 106\",\"ENR 100\",\"CIS 345\"])\n",
    "print(df)"
   ]
  },
  {
   "cell_type": "code",
   "execution_count": 20,
   "id": "66ff8efd",
   "metadata": {},
   "outputs": [
    {
     "name": "stdout",
     "output_type": "stream",
     "text": [
      "Computer Science\n",
      "\n",
      "\n",
      "                             Department Class Name Grade\n",
      "School of Engineering  Computer Science     CSC106     A\n",
      "School of Nursing                   CNA     DON256     B\n"
     ]
    }
   ],
   "source": [
    "def AddClassInfo(school,department,className,grade):\n",
    "    School.append(school)\n",
    "    Department.append(department)\n",
    "    ClassName.append(className)\n",
    "    Grade.append(grade)\n",
    "    schoolstuff={\n",
    "   # \"School\":School,\n",
    "    \"Department\":Department,\n",
    "    \"Class Name\":ClassName,\n",
    "    \"Grade\":Grade\n",
    "    }\n",
    "    schoolDF=pd.DataFrame(schoolstuff, index=School)\n",
    "\n",
    "School=[\"School of Engineering\",\"School of Nursing\"]\n",
    "Department=[\"Computer Science\",\"CNA\"]\n",
    "ClassName=[\"CSC106\",\"DON256\"]\n",
    "Grade=[\"A\",\"B\"]\n",
    "schoolstuff={\n",
    "   # \"School\":School,\n",
    "    \"Department\":Department,\n",
    "    \"Class Name\":ClassName,\n",
    "    \"Grade\":Grade\n",
    "}\n",
    "\n",
    "schoolDF=pd.DataFrame(schoolstuff, index=School)\n",
    "print(schoolDF[\"Department\"][\"School of Engineering\"])\n",
    "print(\"\\n\")\n",
    "AddClassInfo(\"School of stuff\",\"Computer Science\", \"CSC101\",\"A\")\n",
    "print(schoolDF)"
   ]
  },
  {
   "cell_type": "code",
   "execution_count": null,
   "id": "9be72bc3",
   "metadata": {},
   "outputs": [],
   "source": []
  }
 ],
 "metadata": {
  "kernelspec": {
   "display_name": "Python 3 (ipykernel)",
   "language": "python",
   "name": "python3"
  },
  "language_info": {
   "codemirror_mode": {
    "name": "ipython",
    "version": 3
   },
   "file_extension": ".py",
   "mimetype": "text/x-python",
   "name": "python",
   "nbconvert_exporter": "python",
   "pygments_lexer": "ipython3",
   "version": "3.10.12"
  }
 },
 "nbformat": 4,
 "nbformat_minor": 5
}
