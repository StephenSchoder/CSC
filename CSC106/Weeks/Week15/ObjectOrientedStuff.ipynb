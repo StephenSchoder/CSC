{
 "cells": [
  {
   "cell_type": "code",
   "execution_count": 1,
   "metadata": {},
   "outputs": [
    {
     "name": "stdout",
     "output_type": "stream",
     "text": [
      "Blu is 10 yeras old\n"
     ]
    }
   ],
   "source": [
    "class Parrot:\n",
    "    \n",
    "    # class attribute\n",
    "    name=\"\"\n",
    "    age=0\n",
    "    color=\"\"\n",
    "    \n",
    "# create parrot1 object    \n",
    "parrot1=Parrot()\n",
    "parrot1.name=\"Blu\"\n",
    "parrot1.age=10\n",
    "\n",
    "# access attributes\n",
    "print(f\"{parrot1.name} is {parrot1.age} yeras old\")"
   ]
  },
  {
   "cell_type": "raw",
   "metadata": {},
   "source": [
    "Other langs     OOPs\n",
    "\n",
    "Variables----> Data members/attributes\n",
    "\n",
    "Functions----> member functions/behabior"
   ]
  },
  {
   "cell_type": "code",
   "execution_count": 2,
   "metadata": {},
   "outputs": [
    {
     "name": "stdout",
     "output_type": "stream",
     "text": [
      "Blu is 10 year old parrot.\n"
     ]
    }
   ],
   "source": [
    "print(f\"{parrot1.name} is {parrot1.age} year old parrot.\")"
   ]
  },
  {
   "cell_type": "code",
   "execution_count": 3,
   "metadata": {},
   "outputs": [],
   "source": [
    "person=Parrot()\n",
    "person.name=\"Fisher\"\n",
    "person.age=5"
   ]
  },
  {
   "cell_type": "code",
   "execution_count": 4,
   "metadata": {},
   "outputs": [
    {
     "name": "stdout",
     "output_type": "stream",
     "text": [
      "The 100 year old black eagle was named Zazu\n"
     ]
    }
   ],
   "source": [
    "class Eagles:\n",
    "    age=0\n",
    "    color=''\n",
    "    name=''\n",
    "    \n",
    "eagle=Eagles()\n",
    "eagle.age=100\n",
    "eagle.name='Zazu'\n",
    "eagle.color='black'\n",
    "    \n",
    "print(f\"The {eagle.age} year old {eagle.color} eagle was named {eagle.name}\")"
   ]
  },
  {
   "cell_type": "code",
   "execution_count": null,
   "metadata": {},
   "outputs": [],
   "source": []
  }
 ],
 "metadata": {
  "kernelspec": {
   "display_name": "Python 3",
   "language": "python",
   "name": "python3"
  },
  "language_info": {
   "codemirror_mode": {
    "name": "ipython",
    "version": 3
   },
   "file_extension": ".py",
   "mimetype": "text/x-python",
   "name": "python",
   "nbconvert_exporter": "python",
   "pygments_lexer": "ipython3",
   "version": "3.10.12"
  }
 },
 "nbformat": 4,
 "nbformat_minor": 2
}
