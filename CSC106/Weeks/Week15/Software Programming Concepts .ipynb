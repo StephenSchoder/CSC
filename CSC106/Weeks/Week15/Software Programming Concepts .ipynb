{
 "cells": [
  {
   "cell_type": "markdown",
   "id": "5b5a3c29",
   "metadata": {},
   "source": [
    "# CSC 106 Software Programming Concepts"
   ]
  },
  {
   "cell_type": "markdown",
   "id": "aed4b074",
   "metadata": {},
   "source": [
    "https://www.analyticsinsight.net/5-basic-concepts-of-programming-languages/"
   ]
  },
  {
   "cell_type": "raw",
   "id": "ca6f2588",
   "metadata": {},
   "source": [
    "1. Variables and Data Types:"
   ]
  },
  {
   "cell_type": "markdown",
   "id": "1c89f19f",
   "metadata": {},
   "source": [
    "\n",
    "Variables are placeholders in memory that store data during the program’s execution. They allow programmers to give names to memory locations, making manipulating and managing data easier. Each variable has a specific data type that defines the kind of data it can hold, such as integers, floating-point numbers, characters, or strings."
   ]
  },
  {
   "cell_type": "raw",
   "id": "7c3e5636",
   "metadata": {},
   "source": [
    "2. Control Structures:"
   ]
  },
  {
   "cell_type": "markdown",
   "id": "cd35bd31",
   "metadata": {},
   "source": [
    "\n",
    "Control structures allow programmers to control the flow of a program’s execution. They determine how and when certain blocks of code will be executed based on certain conditions. The most common control structures include:\n",
    "\n",
    "Conditional Statements: These statements, such as if, else if, and else, allow the program to execute different code blocks depending on whether certain conditions are true or false.\n",
    "\n",
    "Loops: Loops enable the program to repeat a certain block of code multiple times, making it easier to perform repetitive tasks."
   ]
  },
  {
   "cell_type": "raw",
   "id": "0397e738",
   "metadata": {},
   "source": [
    "3. Functions and Procedures:"
   ]
  },
  {
   "cell_type": "markdown",
   "id": "aa7a6bc1",
   "metadata": {},
   "source": [
    "\n",
    "Functions and procedures are reusable code blocks that perform specific tasks. They help in breaking down complex programs into smaller, manageable parts, making code more organized and maintainable.\n",
    "\n",
    "Functions: Functions return a value after performing a specific computation or task.\n",
    "\n",
    "Procedures: Procedures are similar to functions but do not return any value; they execute a series of steps or actions."
   ]
  },
  {
   "cell_type": "raw",
   "id": "e9aaafb9",
   "metadata": {},
   "source": [
    "4. Input and Output:"
   ]
  },
  {
   "cell_type": "markdown",
   "id": "da2e4439",
   "metadata": {},
   "source": [
    "\n",
    "Input and output operations are essential for user and program communication. These operations enable the program to read data from the user and display results or information."
   ]
  },
  {
   "cell_type": "raw",
   "id": "7d0e1035",
   "metadata": {},
   "source": [
    "5. Object-Oriented Programming (OOP) :"
   ]
  },
  {
   "cell_type": "markdown",
   "id": "21426f72",
   "metadata": {},
   "source": [
    "5. Object-Oriented Programming (OOP):\n",
    "Object-Oriented Programming is a powerful programming paradigm that revolves around the concept of objects. Objects are instances of classes, which are user-defined data types that encapsulate both data and the functions that operate on that data. OOP promotes the reusability of code and allows for better organization and structure in large projects."
   ]
  },
  {
   "cell_type": "raw",
   "id": "127045fc",
   "metadata": {},
   "source": [
    "Encapsulation: Hiding the internal details and exposing only necessary functionalities.\n",
    "\n",
    "Variable and Methods access are restricted.  Using Private Access Specifier. "
   ]
  },
  {
   "cell_type": "raw",
   "id": "16c4d436",
   "metadata": {},
   "source": [
    "Abstraction: Representing the essential features of an object while hiding unnecessary details.\n",
    "\n",
    "e.g. ATM. Calculating the interest is 'hidden' information.  "
   ]
  },
  {
   "cell_type": "raw",
   "id": "ca162424",
   "metadata": {},
   "source": [
    "Inheritance: Creating new classes that inherit the properties and methods of existing classes.\n",
    "\n",
    "e.g. Reuse existing written variables and methods. e.g. Parent - Child."
   ]
  },
  {
   "cell_type": "raw",
   "id": "d7810313",
   "metadata": {},
   "source": [
    "Polymorphism : thecapacity of objects from various classes to be viewed as belonging to the same superclass.\n",
    "\n",
    "e.g. same function name but different arguments."
   ]
  },
  {
   "cell_type": "markdown",
   "id": "76bd1097",
   "metadata": {},
   "source": [
    "# What advanced programming concepts should you learn?"
   ]
  },
  {
   "cell_type": "markdown",
   "id": "fa27289c",
   "metadata": {},
   "source": [
    "https://www.linkedin.com/advice/1/what-advanced-programming-concepts-should-you-learn"
   ]
  },
  {
   "cell_type": "markdown",
   "id": "c61cdb5d",
   "metadata": {},
   "source": [
    "\n",
    "1 Algorithms and data structures\n",
    "Algorithms and data structures are the core of any programming problem. They define how you manipulate, store, and retrieve data efficiently and effectively. Learning how to design, implement, and analyze algorithms and data structures can help you solve complex problems, optimize performance, and reduce errors. Some of the common topics you should learn include sorting, searching, hashing, recursion, dynamic programming, graph algorithms, trees, heaps, stacks, queues, and linked lists.\n",
    "\n",
    "2 Object-oriented programming\n",
    "Object-oriented programming (OOP) is a paradigm that organizes data and behavior into reusable and modular units called objects. Objects have attributes (data) and methods (functions) that define their state and behavior. OOP allows you to create hierarchies of classes that inherit from each other, encapsulate data and logic, and implement polymorphism and abstraction. Learning OOP can help you write code that is more readable, maintainable, and extensible. Some of the popular OOP languages include Java, C++, Python, Ruby, and C#.\n",
    "\n",
    "3 Functional programming\n",
    "Functional programming is a paradigm that treats computation as the evaluation of mathematical functions. Functional programming avoids mutating state and data, and emphasizes pure functions, higher-order functions, recursion, immutability, and lazy evaluation. Learning functional programming can help you write code that is more concise, expressive, and predictable. It can also facilitate parallelism and concurrency, as well as testing and debugging. Some of the prominent functional languages include Haskell, Lisp, Clojure, Scala, and Elixir.\n",
    "\n",
    "4 Design patterns\n",
    "Design patterns are general and reusable solutions to common programming problems. They provide a common vocabulary and a best practice for structuring and organizing code. Design patterns can help you avoid reinventing the wheel, improve code quality, and facilitate communication and collaboration. Some of the well-known design patterns are singleton, factory, observer, strategy, decorator, and adapter. You can learn more about design patterns from books like Design Patterns: Elements of Reusable Object-Oriented Software by the Gang of Four.\n",
    "\n",
    "5 Testing and debugging\n",
    "Testing and debugging are essential skills for any programmer. They help you ensure that your code works as intended, meets the requirements, and handles errors gracefully. Testing and debugging involve writing, running, and analyzing test cases, using tools like debuggers, profilers, and code analyzers, and applying techniques like unit testing, integration testing, regression testing, and code coverage. Learning how to test and debug your code can help you prevent bugs, improve performance, and increase reliability.\n",
    "\n",
    "6 Software engineering principles\n",
    "Software engineering principles are the guidelines and practices that help you develop software in a systematic and disciplined way. They cover topics like software development life cycle, software architecture, software design, software documentation, software quality, software security, software maintenance, and software ethics. Learning software engineering principles can help you plan, manage, and deliver software projects that meet the needs and expectations of the stakeholders, users, and customers.\n"
   ]
  },
  {
   "cell_type": "code",
   "execution_count": null,
   "id": "3c6c9a47",
   "metadata": {},
   "outputs": [],
   "source": []
  }
 ],
 "metadata": {
  "kernelspec": {
   "display_name": "Python 3 (ipykernel)",
   "language": "python",
   "name": "python3"
  },
  "language_info": {
   "codemirror_mode": {
    "name": "ipython",
    "version": 3
   },
   "file_extension": ".py",
   "mimetype": "text/x-python",
   "name": "python",
   "nbconvert_exporter": "python",
   "pygments_lexer": "ipython3",
   "version": "3.11.5"
  }
 },
 "nbformat": 4,
 "nbformat_minor": 5
}
