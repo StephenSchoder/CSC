{
 "cells": [
  {
   "cell_type": "code",
   "execution_count": 6,
   "id": "c20a4cc4-9e17-401a-9bcd-d4a7ffe92327",
   "metadata": {},
   "outputs": [
    {
     "data": {
      "text/plain": [
       "'\\n==\\n!=\\n>=\\n<=\\n>\\n<\\n'"
      ]
     },
     "execution_count": 6,
     "metadata": {},
     "output_type": "execute_result"
    }
   ],
   "source": [
    "'''\n",
    "==\n",
    "!=\n",
    ">=\n",
    "<=\n",
    ">\n",
    "<\n",
    "'''"
   ]
  },
  {
   "cell_type": "code",
   "execution_count": 5,
   "id": "4e26aa70-0b0c-46f6-b2ac-31bbaf40dcd4",
   "metadata": {},
   "outputs": [],
   "source": [
    "#if <condition>:\n",
    "#    <statement>\n",
    "#<rest of code>"
   ]
  },
  {
   "cell_type": "code",
   "execution_count": 9,
   "id": "0a72b2f9-7a64-4be4-8105-77b32ae417e8",
   "metadata": {},
   "outputs": [
    {
     "name": "stdout",
     "output_type": "stream",
     "text": [
      "hi\n"
     ]
    }
   ],
   "source": [
    "a=1\n",
    "b=2\n",
    "c=3\n",
    "d=4\n",
    "if (a==1 or b==2) or (c==3 and d==4):\n",
    "    print('hi')"
   ]
  },
  {
   "cell_type": "code",
   "execution_count": null,
   "id": "431f334a-d33d-44c4-b950-58c2859d7abb",
   "metadata": {},
   "outputs": [],
   "source": []
  }
 ],
 "metadata": {
  "kernelspec": {
   "display_name": "Python 3 (ipykernel)",
   "language": "python",
   "name": "python3"
  },
  "language_info": {
   "codemirror_mode": {
    "name": "ipython",
    "version": 3
   },
   "file_extension": ".py",
   "mimetype": "text/x-python",
   "name": "python",
   "nbconvert_exporter": "python",
   "pygments_lexer": "ipython3",
   "version": "3.10.12"
  }
 },
 "nbformat": 4,
 "nbformat_minor": 5
}
