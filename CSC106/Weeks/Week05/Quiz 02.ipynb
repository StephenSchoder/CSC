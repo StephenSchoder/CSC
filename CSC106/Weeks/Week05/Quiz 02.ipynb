{
 "cells": [
  {
   "cell_type": "markdown",
   "id": "b8c89b37",
   "metadata": {},
   "source": [
    "# Quiz #02"
   ]
  },
  {
   "cell_type": "raw",
   "id": "622828a7",
   "metadata": {},
   "source": [
    "Name: Stephen Schoder\n",
    "   "
   ]
  },
  {
   "cell_type": "raw",
   "id": "0758fafa",
   "metadata": {},
   "source": [
    "Part I (4 marks)\n"
   ]
  },
  {
   "cell_type": "markdown",
   "id": "a2ae8c56",
   "metadata": {},
   "source": [
    "Using the input feature ONLY, create and assign these variables : \n",
    "\n",
    "1. ID,integer\n",
    "2. Subject,string\n",
    "3. Score,real_number\n",
    "4. Grade,character\n",
    "\n"
   ]
  },
  {
   "cell_type": "code",
   "execution_count": 3,
   "id": "bb5c80d0-b75a-4c9c-b931-16354e181410",
   "metadata": {},
   "outputs": [
    {
     "name": "stdin",
     "output_type": "stream",
     "text": [
      "Please type ID Number:   1234\n",
      "Please Type Subject Name:   asdf\n",
      "Please insert your score (out of 4.0):   3.3\n",
      "Please insert Letter Grade (i.e. A, B, C):   A\n"
     ]
    }
   ],
   "source": [
    "ID=input('Please type ID Number:  ')\n",
    "Subject=input('Please Type Subject Name:  ')\n",
    "Score=input('Please insert your score (out of 4.0):  ')\n",
    "Grade=input('Please insert Letter Grade (i.e. A, B, C):  ')"
   ]
  },
  {
   "cell_type": "raw",
   "id": "e73d2424",
   "metadata": {},
   "source": [
    "Part II (4 marks)\n"
   ]
  },
  {
   "cell_type": "markdown",
   "id": "527f23b0",
   "metadata": {},
   "source": [
    "Create data containers \n",
    "\n",
    "1. tuple\n",
    "2. list\n",
    "3. set\n",
    "4. dictionary \n",
    "\n",
    "using the above dataset. "
   ]
  },
  {
   "cell_type": "code",
   "execution_count": 57,
   "id": "30932d9c-4182-4cb8-8b72-4c2fe3acfb5a",
   "metadata": {},
   "outputs": [],
   "source": [
    "tupTest=(1,'a',5.5)\n",
    "list_test=[\"as\",1,3.4]\n",
    "setTest={'list','tuple','whoah this is a set'}\n",
    "dictTest={\n",
    "    tuple:'done',\n",
    "    list:'finished',\n",
    "    set:'confirmed'\n",
    "}"
   ]
  },
  {
   "cell_type": "raw",
   "id": "e5b2e52a",
   "metadata": {},
   "source": [
    "Part III (4 marks)\n"
   ]
  },
  {
   "cell_type": "markdown",
   "id": "70173192",
   "metadata": {},
   "source": [
    "Report the data types for all the data containers in Part II.<br>\n",
    "Report both the entire data container and all the single elements."
   ]
  },
  {
   "cell_type": "code",
   "execution_count": 17,
   "id": "0d22dac4-2b5d-4af6-abd1-d2006447b54d",
   "metadata": {},
   "outputs": [
    {
     "name": "stdout",
     "output_type": "stream",
     "text": [
      "<class 'tuple'>\n",
      "<class 'list'>\n",
      "<class 'set'>\n",
      "<class 'dict'>\n",
      "<class 'int'>\n",
      "<class 'str'>\n",
      "<class 'str'>\n",
      "<class 'type'>\n",
      "<class 'str'>\n",
      "<class 'str'>\n",
      "<class 'str'>\n",
      "<class 'type'>\n",
      "<class 'float'>\n",
      "<class 'int'>\n",
      "<class 'str'>\n",
      "<class 'type'>\n"
     ]
    }
   ],
   "source": [
    "print(type(tupTest))\n",
    "print(type(list_test))\n",
    "print(type(setTest))\n",
    "print(type(dictTest))\n",
    "length=3\n",
    "for i in range(length):\n",
    "    print(type(list(tupTest)[i]))\n",
    "    print(type(list(list_test)[i]))\n",
    "    print(type(list(setTest)[i]))\n",
    "    print(type(list(dictTest)[i]))"
   ]
  },
  {
   "cell_type": "raw",
   "id": "c5433b68",
   "metadata": {},
   "source": [
    "Part IV (4 marks)\n"
   ]
  },
  {
   "cell_type": "markdown",
   "id": "d68cde3b",
   "metadata": {},
   "source": [
    "Insert these element in all the 4 data containers.<br>\n",
    "\n",
    "Completed : True "
   ]
  },
  {
   "cell_type": "code",
   "execution_count": 52,
   "id": "c2ef4827-cb79-4a6f-b1ca-3fbc38e55984",
   "metadata": {},
   "outputs": [],
   "source": [
    "tupTest=list(tupTest)\n",
    "tupTest.append({'Completed':True})\n",
    "tupTest=tuple(tupTest)\n",
    "list_test.append({'Completed':True})\n",
    "#sets cannot have dictionaries\n",
    "dictTest.update({'Completed':True})"
   ]
  },
  {
   "cell_type": "raw",
   "id": "80d34002",
   "metadata": {},
   "source": [
    "Part V (4 marks)\n"
   ]
  },
  {
   "cell_type": "markdown",
   "id": "ea0eeb68",
   "metadata": {},
   "source": [
    "Change the ID to '1234'"
   ]
  },
  {
   "cell_type": "code",
   "execution_count": 56,
   "id": "29f4ac63",
   "metadata": {},
   "outputs": [],
   "source": [
    "ID=1234 #could use input() to change it too like ID=input('Change to 1234') >>> 1234"
   ]
  },
  {
   "cell_type": "code",
   "execution_count": null,
   "id": "a9b25af6-6721-4222-b3e2-5c68007526e4",
   "metadata": {},
   "outputs": [],
   "source": []
  }
 ],
 "metadata": {
  "kernelspec": {
   "display_name": "Python 3 (ipykernel)",
   "language": "python",
   "name": "python3"
  },
  "language_info": {
   "codemirror_mode": {
    "name": "ipython",
    "version": 3
   },
   "file_extension": ".py",
   "mimetype": "text/x-python",
   "name": "python",
   "nbconvert_exporter": "python",
   "pygments_lexer": "ipython3",
   "version": "3.10.12"
  }
 },
 "nbformat": 4,
 "nbformat_minor": 5
}
