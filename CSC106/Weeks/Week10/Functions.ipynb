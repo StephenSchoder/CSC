{
 "cells": [
  {
   "cell_type": "code",
   "execution_count": 1,
   "metadata": {},
   "outputs": [
    {
     "data": {
      "text/plain": [
       "11"
      ]
     },
     "execution_count": 1,
     "metadata": {},
     "output_type": "execute_result"
    }
   ],
   "source": [
    "abs(-11)"
   ]
  },
  {
   "cell_type": "code",
   "execution_count": 2,
   "metadata": {},
   "outputs": [
    {
     "data": {
      "text/plain": [
       "11.0"
      ]
     },
     "execution_count": 2,
     "metadata": {},
     "output_type": "execute_result"
    }
   ],
   "source": [
    "abs(-11j)"
   ]
  },
  {
   "cell_type": "code",
   "execution_count": 3,
   "metadata": {},
   "outputs": [
    {
     "data": {
      "text/plain": [
       "'0b1010'"
      ]
     },
     "execution_count": 3,
     "metadata": {},
     "output_type": "execute_result"
    }
   ],
   "source": [
    "#stuff to binary\n",
    "bin(10)"
   ]
  },
  {
   "cell_type": "code",
   "execution_count": 4,
   "metadata": {},
   "outputs": [
    {
     "data": {
      "text/plain": [
       "4"
      ]
     },
     "execution_count": 4,
     "metadata": {},
     "output_type": "execute_result"
    }
   ],
   "source": [
    "#pow(number,exponent,mod)\n",
    "pow(2,2)"
   ]
  },
  {
   "cell_type": "code",
   "execution_count": 5,
   "metadata": {},
   "outputs": [
    {
     "data": {
      "text/plain": [
       "7"
      ]
     },
     "execution_count": 5,
     "metadata": {},
     "output_type": "execute_result"
    }
   ],
   "source": [
    "#length, number of elements/chars\n",
    "len('Schoder')"
   ]
  },
  {
   "cell_type": "code",
   "execution_count": 6,
   "metadata": {},
   "outputs": [
    {
     "data": {
      "text/plain": [
       "6"
      ]
     },
     "execution_count": 6,
     "metadata": {},
     "output_type": "execute_result"
    }
   ],
   "source": [
    "asdf=[1,2,3,'asdf',3,True]\n",
    "len(asdf)"
   ]
  },
  {
   "cell_type": "code",
   "execution_count": 7,
   "metadata": {},
   "outputs": [],
   "source": [
    "#def function_name(args, args, args):\n",
    "#    actions and things and stuff\n",
    "\n",
    "# * multiply, ** to the power of \n",
    "def square(x):\n",
    "    print(x**2)"
   ]
  },
  {
   "cell_type": "code",
   "execution_count": 8,
   "metadata": {},
   "outputs": [],
   "source": [
    "def greet(name):\n",
    "    print(f\"Hello {name}\")"
   ]
  },
  {
   "cell_type": "code",
   "execution_count": 9,
   "metadata": {},
   "outputs": [
    {
     "name": "stdout",
     "output_type": "stream",
     "text": [
      "Hello Stevie\n"
     ]
    }
   ],
   "source": [
    "greet(\"Stevie\")"
   ]
  },
  {
   "cell_type": "code",
   "execution_count": 10,
   "metadata": {},
   "outputs": [],
   "source": [
    "#   RRR\n",
    "#   Reduce Reuse Recycle"
   ]
  },
  {
   "cell_type": "code",
   "execution_count": 11,
   "metadata": {},
   "outputs": [],
   "source": [
    "def schoolstuff(sname,spubpriv,sloc,spop,syearmade):\n",
    "    print(f\"The {sname} is a {spubpriv} university near {sloc} that has {spop}. It was established in {syearmade}.\")\n",
    "#can also use + instead of f {}"
   ]
  },
  {
   "cell_type": "code",
   "execution_count": 12,
   "metadata": {},
   "outputs": [
    {
     "name": "stdout",
     "output_type": "stream",
     "text": [
      "The University of Mary is a private university near Bismark, ND that has 3,852. It was established in 1959.\n"
     ]
    }
   ],
   "source": [
    "schoolstuff(\"University of Mary\",\"private\",\"Bismark, ND\",\"3,852\",\"1959\")"
   ]
  },
  {
   "cell_type": "code",
   "execution_count": 17,
   "metadata": {},
   "outputs": [
    {
     "ename": "IndexError",
     "evalue": "list index out of range",
     "output_type": "error",
     "traceback": [
      "\u001b[0;31m---------------------------------------------------------------------------\u001b[0m",
      "\u001b[0;31mIndexError\u001b[0m                                Traceback (most recent call last)",
      "\u001b[1;32m/home/student/CSC106/Weeks/Week10/Functions.ipynb Cell 13\u001b[0m line \u001b[0;36m7\n\u001b[1;32m      <a href='vscode-notebook-cell:/home/student/CSC106/Weeks/Week10/Functions.ipynb#X15sZmlsZQ%3D%3D?line=3'>4</a>\u001b[0m     df\u001b[39m=\u001b[39m[y][x]\n\u001b[1;32m      <a href='vscode-notebook-cell:/home/student/CSC106/Weeks/Week10/Functions.ipynb#X15sZmlsZQ%3D%3D?line=4'>5</a>\u001b[0m     df\u001b[39m.\u001b[39mpd\u001b[39m.\u001b[39mplot\u001b[39m.\u001b[39mline(y,x)\n\u001b[0;32m----> <a href='vscode-notebook-cell:/home/student/CSC106/Weeks/Week10/Functions.ipynb#X15sZmlsZQ%3D%3D?line=6'>7</a>\u001b[0m psgraph(\u001b[39m1\u001b[39;49m,\u001b[39m1\u001b[39;49m,\u001b[39m1\u001b[39;49m)\n",
      "\u001b[1;32m/home/student/CSC106/Weeks/Week10/Functions.ipynb Cell 13\u001b[0m line \u001b[0;36m4\n\u001b[1;32m      <a href='vscode-notebook-cell:/home/student/CSC106/Weeks/Week10/Functions.ipynb#X15sZmlsZQ%3D%3D?line=1'>2</a>\u001b[0m \u001b[39mdef\u001b[39;00m \u001b[39mpsgraph\u001b[39m(m,x,c):\n\u001b[1;32m      <a href='vscode-notebook-cell:/home/student/CSC106/Weeks/Week10/Functions.ipynb#X15sZmlsZQ%3D%3D?line=2'>3</a>\u001b[0m     y\u001b[39m=\u001b[39mm\u001b[39m*\u001b[39mx\u001b[39m+\u001b[39mc\n\u001b[0;32m----> <a href='vscode-notebook-cell:/home/student/CSC106/Weeks/Week10/Functions.ipynb#X15sZmlsZQ%3D%3D?line=3'>4</a>\u001b[0m     df\u001b[39m=\u001b[39m[y][x]\n\u001b[1;32m      <a href='vscode-notebook-cell:/home/student/CSC106/Weeks/Week10/Functions.ipynb#X15sZmlsZQ%3D%3D?line=4'>5</a>\u001b[0m     df\u001b[39m.\u001b[39mpd\u001b[39m.\u001b[39mplot\u001b[39m.\u001b[39mline(y,x)\n",
      "\u001b[0;31mIndexError\u001b[0m: list index out of range"
     ]
    }
   ],
   "source": [
    "import pandas as pd\n",
    "def psgraph(m,x,c):\n",
    "    y=m*x+c\n",
    "    df=[y][x]\n",
    "    df.pd.plot.line(y,x)\n",
    "    \n",
    "psgraph(1,1,1)"
   ]
  },
  {
   "cell_type": "code",
   "execution_count": null,
   "metadata": {},
   "outputs": [],
   "source": []
  }
 ],
 "metadata": {
  "kernelspec": {
   "display_name": "Python 3",
   "language": "python",
   "name": "python3"
  },
  "language_info": {
   "codemirror_mode": {
    "name": "ipython",
    "version": 3
   },
   "file_extension": ".py",
   "mimetype": "text/x-python",
   "name": "python",
   "nbconvert_exporter": "python",
   "pygments_lexer": "ipython3",
   "version": "3.10.12"
  }
 },
 "nbformat": 4,
 "nbformat_minor": 2
}
