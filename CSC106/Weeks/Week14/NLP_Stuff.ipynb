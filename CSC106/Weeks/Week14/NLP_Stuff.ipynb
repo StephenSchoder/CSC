{
 "cells": [
  {
   "cell_type": "code",
   "execution_count": 9,
   "metadata": {},
   "outputs": [
    {
     "name": "stderr",
     "output_type": "stream",
     "text": [
      "[nltk_data] Downloading package punkt to /home/student/nltk_data...\n",
      "[nltk_data]   Unzipping tokenizers/punkt.zip.\n"
     ]
    },
    {
     "data": {
      "text/plain": [
       "True"
      ]
     },
     "execution_count": 9,
     "metadata": {},
     "output_type": "execute_result"
    }
   ],
   "source": [
    "from nltk.tokenize import sent_tokenize, word_tokenize\n",
    "import nltk\n",
    "nltk.download('punkt')"
   ]
  },
  {
   "cell_type": "code",
   "execution_count": 10,
   "metadata": {},
   "outputs": [
    {
     "data": {
      "text/plain": [
       "'The University of Mary has been educating students for the whole of life\\nsince our founding in 1959. Because of our commitment to education in the \\nCatholic Benedictine tradition, Mary graduates live fully, live well, and \\nthrive — as professional leaders in their fields and as servant leaders in \\ntheir communities.'"
      ]
     },
     "execution_count": 10,
     "metadata": {},
     "output_type": "execute_result"
    }
   ],
   "source": [
    "About=\"\"\"The University of Mary has been educating students for the whole of life since our founding in 1959. Because of our commitment to education in the Catholic Benedictine tradition, Mary graduates live fully, live well, and thrive — as professional leaders in their fields and as servant leaders in their communities.\"\"\"\n",
    "\n",
    "'''The University of Mary has been educating students for the whole of life\n",
    "since our founding in 1959. Because of our commitment to education in the \n",
    "Catholic Benedictine tradition, Mary graduates live fully, live well, and \n",
    "thrive — as professional leaders in their fields and as servant leaders in \n",
    "their communities.'''"
   ]
  },
  {
   "cell_type": "code",
   "execution_count": 11,
   "metadata": {},
   "outputs": [
    {
     "data": {
      "text/plain": [
       "['The University of Mary has been educating students for the whole of life since our founding in 1959.',\n",
       " 'Because of our commitment to education in the Catholic Benedictine tradition, Mary graduates live fully, live well, and thrive — as professional leaders in their fields and as servant leaders in their communities.']"
      ]
     },
     "execution_count": 11,
     "metadata": {},
     "output_type": "execute_result"
    }
   ],
   "source": [
    "sent_tokenize(About)"
   ]
  },
  {
   "cell_type": "code",
   "execution_count": 12,
   "metadata": {},
   "outputs": [
    {
     "data": {
      "text/plain": [
       "['The',\n",
       " 'University',\n",
       " 'of',\n",
       " 'Mary',\n",
       " 'has',\n",
       " 'been',\n",
       " 'educating',\n",
       " 'students',\n",
       " 'for',\n",
       " 'the',\n",
       " 'whole',\n",
       " 'of',\n",
       " 'life',\n",
       " 'since',\n",
       " 'our',\n",
       " 'founding',\n",
       " 'in',\n",
       " '1959',\n",
       " '.',\n",
       " 'Because',\n",
       " 'of',\n",
       " 'our',\n",
       " 'commitment',\n",
       " 'to',\n",
       " 'education',\n",
       " 'in',\n",
       " 'the',\n",
       " 'Catholic',\n",
       " 'Benedictine',\n",
       " 'tradition',\n",
       " ',',\n",
       " 'Mary',\n",
       " 'graduates',\n",
       " 'live',\n",
       " 'fully',\n",
       " ',',\n",
       " 'live',\n",
       " 'well',\n",
       " ',',\n",
       " 'and',\n",
       " 'thrive',\n",
       " '—',\n",
       " 'as',\n",
       " 'professional',\n",
       " 'leaders',\n",
       " 'in',\n",
       " 'their',\n",
       " 'fields',\n",
       " 'and',\n",
       " 'as',\n",
       " 'servant',\n",
       " 'leaders',\n",
       " 'in',\n",
       " 'their',\n",
       " 'communities',\n",
       " '.']"
      ]
     },
     "execution_count": 12,
     "metadata": {},
     "output_type": "execute_result"
    }
   ],
   "source": [
    "word_tokenize(About)"
   ]
  },
  {
   "cell_type": "code",
   "execution_count": 13,
   "metadata": {},
   "outputs": [
    {
     "name": "stderr",
     "output_type": "stream",
     "text": [
      "[nltk_data] Downloading package stopwords to\n",
      "[nltk_data]     /home/student/nltk_data...\n",
      "[nltk_data]   Unzipping corpora/stopwords.zip.\n"
     ]
    }
   ],
   "source": [
    "nltk.download(\"stopwords\")\n",
    "from nltk.corpus import stopwords"
   ]
  },
  {
   "cell_type": "code",
   "execution_count": 16,
   "metadata": {},
   "outputs": [],
   "source": [
    "About_Again=About\n",
    "\n",
    "About_Again_Tokenized=word_tokenize(About_Again)\n",
    "stop_words=set(stopwords.words(\"english\"))\n",
    "filtered_list=[]\n",
    "for word in About_Again_Tokenized:\n",
    "    if word.casefold() not in stop_words:\n",
    "        filtered_list.append(word)"
   ]
  },
  {
   "cell_type": "code",
   "execution_count": 18,
   "metadata": {},
   "outputs": [],
   "source": [
    "filtered_list=[\n",
    "    word for word in About_Again_Tokenized if word.casefold() not in stop_words\n",
    "]"
   ]
  },
  {
   "cell_type": "code",
   "execution_count": 19,
   "metadata": {},
   "outputs": [
    {
     "data": {
      "text/plain": [
       "['University',\n",
       " 'Mary',\n",
       " 'educating',\n",
       " 'students',\n",
       " 'whole',\n",
       " 'life',\n",
       " 'since',\n",
       " 'founding',\n",
       " '1959',\n",
       " '.',\n",
       " 'commitment',\n",
       " 'education',\n",
       " 'Catholic',\n",
       " 'Benedictine',\n",
       " 'tradition',\n",
       " ',',\n",
       " 'Mary',\n",
       " 'graduates',\n",
       " 'live',\n",
       " 'fully',\n",
       " ',',\n",
       " 'live',\n",
       " 'well',\n",
       " ',',\n",
       " 'thrive',\n",
       " '—',\n",
       " 'professional',\n",
       " 'leaders',\n",
       " 'fields',\n",
       " 'servant',\n",
       " 'leaders',\n",
       " 'communities',\n",
       " '.']"
      ]
     },
     "execution_count": 19,
     "metadata": {},
     "output_type": "execute_result"
    }
   ],
   "source": [
    "filtered_list"
   ]
  },
  {
   "cell_type": "code",
   "execution_count": null,
   "metadata": {},
   "outputs": [],
   "source": []
  }
 ],
 "metadata": {
  "kernelspec": {
   "display_name": "Python 3",
   "language": "python",
   "name": "python3"
  },
  "language_info": {
   "codemirror_mode": {
    "name": "ipython",
    "version": 3
   },
   "file_extension": ".py",
   "mimetype": "text/x-python",
   "name": "python",
   "nbconvert_exporter": "python",
   "pygments_lexer": "ipython3",
   "version": "3.10.12"
  }
 },
 "nbformat": 4,
 "nbformat_minor": 2
}
